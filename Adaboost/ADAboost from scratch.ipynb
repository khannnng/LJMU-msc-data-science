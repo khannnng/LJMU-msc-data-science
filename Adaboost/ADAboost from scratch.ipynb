{
 "cells": [
  {
   "cell_type": "markdown",
   "id": "cc323c63-34c9-4635-8b2a-148d08a2f2f0",
   "metadata": {},
   "source": [
    "# Reconstruct the steps of ADA classifier without ADA"
   ]
  },
  {
   "cell_type": "code",
   "execution_count": 1,
   "id": "5b008597-dc0f-4842-8da6-9f85327be163",
   "metadata": {},
   "outputs": [],
   "source": [
    "import pandas as pd, numpy as np\n",
    "import matplotlib.pyplot as plt\n",
    "import seaborn as sns\n",
    "import sklearn\n",
    "from sklearn.model_selection import train_test_split\n",
    "from sklearn.metrics import accuracy_score, confusion_matrix, classification_report\n",
    "from sklearn.tree import DecisionTreeClassifier\n",
    "\n",
    "import warnings\n",
    "warnings.filterwarnings('ignore')"
   ]
  },
  {
   "cell_type": "markdown",
   "id": "31872507-3bab-4801-a5a1-8e5d89745c90",
   "metadata": {},
   "source": [
    "# 1. Dataset"
   ]
  },
  {
   "cell_type": "markdown",
   "id": "17dd2454-92fc-48cd-947b-b4d778d3b958",
   "metadata": {},
   "source": [
    "For the purpose of this exercise, I just use a simple dataset. Heart disease prediction works just fine."
   ]
  },
  {
   "cell_type": "code",
   "execution_count": 2,
   "id": "ebe745a3-4f6c-486a-a16d-de24b54976d9",
   "metadata": {},
   "outputs": [],
   "source": [
    "df = pd.read_csv('heart.csv')\n",
    "X_train, X_test, y_train, y_test = train_test_split(df.drop(columns='target'), df.target, stratify = df.target, test_size=0.1, random_state=14)\n",
    "features = df.columns.tolist()\n"
   ]
  },
  {
   "cell_type": "code",
   "execution_count": 5,
   "id": "e66130d6-0e91-49b2-9677-cd740b0e3a4f",
   "metadata": {},
   "outputs": [
    {
     "data": {
      "text/html": [
       "<div>\n",
       "<style scoped>\n",
       "    .dataframe tbody tr th:only-of-type {\n",
       "        vertical-align: middle;\n",
       "    }\n",
       "\n",
       "    .dataframe tbody tr th {\n",
       "        vertical-align: top;\n",
       "    }\n",
       "\n",
       "    .dataframe thead th {\n",
       "        text-align: right;\n",
       "    }\n",
       "</style>\n",
       "<table border=\"1\" class=\"dataframe\">\n",
       "  <thead>\n",
       "    <tr style=\"text-align: right;\">\n",
       "      <th></th>\n",
       "      <th>age</th>\n",
       "      <th>sex</th>\n",
       "      <th>cp</th>\n",
       "      <th>trestbps</th>\n",
       "      <th>chol</th>\n",
       "      <th>fbs</th>\n",
       "      <th>restecg</th>\n",
       "      <th>thalach</th>\n",
       "      <th>exang</th>\n",
       "      <th>oldpeak</th>\n",
       "      <th>slope</th>\n",
       "      <th>ca</th>\n",
       "      <th>thal</th>\n",
       "      <th>target</th>\n",
       "    </tr>\n",
       "  </thead>\n",
       "  <tbody>\n",
       "    <tr>\n",
       "      <th>0</th>\n",
       "      <td>52</td>\n",
       "      <td>1</td>\n",
       "      <td>0</td>\n",
       "      <td>125</td>\n",
       "      <td>212</td>\n",
       "      <td>0</td>\n",
       "      <td>1</td>\n",
       "      <td>168</td>\n",
       "      <td>0</td>\n",
       "      <td>1.0</td>\n",
       "      <td>2</td>\n",
       "      <td>2</td>\n",
       "      <td>3</td>\n",
       "      <td>0</td>\n",
       "    </tr>\n",
       "    <tr>\n",
       "      <th>1</th>\n",
       "      <td>53</td>\n",
       "      <td>1</td>\n",
       "      <td>0</td>\n",
       "      <td>140</td>\n",
       "      <td>203</td>\n",
       "      <td>1</td>\n",
       "      <td>0</td>\n",
       "      <td>155</td>\n",
       "      <td>1</td>\n",
       "      <td>3.1</td>\n",
       "      <td>0</td>\n",
       "      <td>0</td>\n",
       "      <td>3</td>\n",
       "      <td>0</td>\n",
       "    </tr>\n",
       "    <tr>\n",
       "      <th>2</th>\n",
       "      <td>70</td>\n",
       "      <td>1</td>\n",
       "      <td>0</td>\n",
       "      <td>145</td>\n",
       "      <td>174</td>\n",
       "      <td>0</td>\n",
       "      <td>1</td>\n",
       "      <td>125</td>\n",
       "      <td>1</td>\n",
       "      <td>2.6</td>\n",
       "      <td>0</td>\n",
       "      <td>0</td>\n",
       "      <td>3</td>\n",
       "      <td>0</td>\n",
       "    </tr>\n",
       "    <tr>\n",
       "      <th>3</th>\n",
       "      <td>61</td>\n",
       "      <td>1</td>\n",
       "      <td>0</td>\n",
       "      <td>148</td>\n",
       "      <td>203</td>\n",
       "      <td>0</td>\n",
       "      <td>1</td>\n",
       "      <td>161</td>\n",
       "      <td>0</td>\n",
       "      <td>0.0</td>\n",
       "      <td>2</td>\n",
       "      <td>1</td>\n",
       "      <td>3</td>\n",
       "      <td>0</td>\n",
       "    </tr>\n",
       "    <tr>\n",
       "      <th>4</th>\n",
       "      <td>62</td>\n",
       "      <td>0</td>\n",
       "      <td>0</td>\n",
       "      <td>138</td>\n",
       "      <td>294</td>\n",
       "      <td>1</td>\n",
       "      <td>1</td>\n",
       "      <td>106</td>\n",
       "      <td>0</td>\n",
       "      <td>1.9</td>\n",
       "      <td>1</td>\n",
       "      <td>3</td>\n",
       "      <td>2</td>\n",
       "      <td>0</td>\n",
       "    </tr>\n",
       "  </tbody>\n",
       "</table>\n",
       "</div>"
      ],
      "text/plain": [
       "   age  sex  cp  trestbps  chol  fbs  restecg  thalach  exang  oldpeak  slope  \\\n",
       "0   52    1   0       125   212    0        1      168      0      1.0      2   \n",
       "1   53    1   0       140   203    1        0      155      1      3.1      0   \n",
       "2   70    1   0       145   174    0        1      125      1      2.6      0   \n",
       "3   61    1   0       148   203    0        1      161      0      0.0      2   \n",
       "4   62    0   0       138   294    1        1      106      0      1.9      1   \n",
       "\n",
       "   ca  thal  target  \n",
       "0   2     3       0  \n",
       "1   0     3       0  \n",
       "2   0     3       0  \n",
       "3   1     3       0  \n",
       "4   3     2       0  "
      ]
     },
     "execution_count": 5,
     "metadata": {},
     "output_type": "execute_result"
    }
   ],
   "source": [
    "df.head()"
   ]
  },
  {
   "cell_type": "code",
   "execution_count": 6,
   "id": "eb735fb6-0a0d-425c-8158-dc7f4903d47f",
   "metadata": {},
   "outputs": [
    {
     "name": "stdout",
     "output_type": "stream",
     "text": [
      "<class 'pandas.core.frame.DataFrame'>\n",
      "RangeIndex: 1025 entries, 0 to 1024\n",
      "Data columns (total 14 columns):\n",
      " #   Column    Non-Null Count  Dtype  \n",
      "---  ------    --------------  -----  \n",
      " 0   age       1025 non-null   int64  \n",
      " 1   sex       1025 non-null   int64  \n",
      " 2   cp        1025 non-null   int64  \n",
      " 3   trestbps  1025 non-null   int64  \n",
      " 4   chol      1025 non-null   int64  \n",
      " 5   fbs       1025 non-null   int64  \n",
      " 6   restecg   1025 non-null   int64  \n",
      " 7   thalach   1025 non-null   int64  \n",
      " 8   exang     1025 non-null   int64  \n",
      " 9   oldpeak   1025 non-null   float64\n",
      " 10  slope     1025 non-null   int64  \n",
      " 11  ca        1025 non-null   int64  \n",
      " 12  thal      1025 non-null   int64  \n",
      " 13  target    1025 non-null   int64  \n",
      "dtypes: float64(1), int64(13)\n",
      "memory usage: 112.2 KB\n"
     ]
    }
   ],
   "source": [
    "df.info()"
   ]
  },
  {
   "cell_type": "code",
   "execution_count": 7,
   "id": "8859dd66-def4-4b30-b5f4-54ef990c1f5c",
   "metadata": {},
   "outputs": [
    {
     "data": {
      "text/plain": [
       "1    526\n",
       "0    499\n",
       "Name: target, dtype: int64"
      ]
     },
     "execution_count": 7,
     "metadata": {},
     "output_type": "execute_result"
    }
   ],
   "source": [
    "df.target.value_counts()"
   ]
  },
  {
   "cell_type": "markdown",
   "id": "1d88b408-7bb0-4d62-a192-739bfbee279c",
   "metadata": {
    "tags": [],
    "toc-hr-collapsed": true
   },
   "source": [
    "# 2. Steps by step demonstration | Debug"
   ]
  },
  {
   "cell_type": "markdown",
   "id": "0e9073b6-a529-4704-bb4e-87dd7169e3d5",
   "metadata": {},
   "source": [
    "### Step 0. Initial weights"
   ]
  },
  {
   "cell_type": "code",
   "execution_count": 18,
   "id": "d05c6aed-0921-4fd5-a5da-598fe495e8de",
   "metadata": {},
   "outputs": [
    {
     "data": {
      "text/html": [
       "<div>\n",
       "<style scoped>\n",
       "    .dataframe tbody tr th:only-of-type {\n",
       "        vertical-align: middle;\n",
       "    }\n",
       "\n",
       "    .dataframe tbody tr th {\n",
       "        vertical-align: top;\n",
       "    }\n",
       "\n",
       "    .dataframe thead th {\n",
       "        text-align: right;\n",
       "    }\n",
       "</style>\n",
       "<table border=\"1\" class=\"dataframe\">\n",
       "  <thead>\n",
       "    <tr style=\"text-align: right;\">\n",
       "      <th></th>\n",
       "      <th>target</th>\n",
       "      <th>init_weights</th>\n",
       "    </tr>\n",
       "  </thead>\n",
       "  <tbody>\n",
       "    <tr>\n",
       "      <th>467</th>\n",
       "      <td>0</td>\n",
       "      <td>0.001085</td>\n",
       "    </tr>\n",
       "    <tr>\n",
       "      <th>537</th>\n",
       "      <td>1</td>\n",
       "      <td>0.001085</td>\n",
       "    </tr>\n",
       "    <tr>\n",
       "      <th>258</th>\n",
       "      <td>0</td>\n",
       "      <td>0.001085</td>\n",
       "    </tr>\n",
       "    <tr>\n",
       "      <th>1017</th>\n",
       "      <td>0</td>\n",
       "      <td>0.001085</td>\n",
       "    </tr>\n",
       "    <tr>\n",
       "      <th>152</th>\n",
       "      <td>0</td>\n",
       "      <td>0.001085</td>\n",
       "    </tr>\n",
       "    <tr>\n",
       "      <th>...</th>\n",
       "      <td>...</td>\n",
       "      <td>...</td>\n",
       "    </tr>\n",
       "    <tr>\n",
       "      <th>137</th>\n",
       "      <td>1</td>\n",
       "      <td>0.001085</td>\n",
       "    </tr>\n",
       "    <tr>\n",
       "      <th>300</th>\n",
       "      <td>1</td>\n",
       "      <td>0.001085</td>\n",
       "    </tr>\n",
       "    <tr>\n",
       "      <th>430</th>\n",
       "      <td>0</td>\n",
       "      <td>0.001085</td>\n",
       "    </tr>\n",
       "    <tr>\n",
       "      <th>507</th>\n",
       "      <td>1</td>\n",
       "      <td>0.001085</td>\n",
       "    </tr>\n",
       "    <tr>\n",
       "      <th>963</th>\n",
       "      <td>0</td>\n",
       "      <td>0.001085</td>\n",
       "    </tr>\n",
       "  </tbody>\n",
       "</table>\n",
       "<p>922 rows × 2 columns</p>\n",
       "</div>"
      ],
      "text/plain": [
       "      target  init_weights\n",
       "467        0      0.001085\n",
       "537        1      0.001085\n",
       "258        0      0.001085\n",
       "1017       0      0.001085\n",
       "152        0      0.001085\n",
       "...      ...           ...\n",
       "137        1      0.001085\n",
       "300        1      0.001085\n",
       "430        0      0.001085\n",
       "507        1      0.001085\n",
       "963        0      0.001085\n",
       "\n",
       "[922 rows x 2 columns]"
      ]
     },
     "execution_count": 18,
     "metadata": {},
     "output_type": "execute_result"
    }
   ],
   "source": [
    "# add initial weights\n",
    "df_weights = pd.DataFrame({'target': y_train})\n",
    "df_weights['init_weights'] = 1/len(y_train)\n",
    "df_weights"
   ]
  },
  {
   "cell_type": "markdown",
   "id": "60959f98-ce5b-41ef-856f-de32257decca",
   "metadata": {},
   "source": [
    "### Step 1. Split each feature with decision tree, calculate gini, return the lowest gini feature"
   ]
  },
  {
   "cell_type": "code",
   "execution_count": 60,
   "id": "67d8b46f-9656-461c-a96d-ec00c16cbfec",
   "metadata": {},
   "outputs": [
    {
     "data": {
      "text/html": [
       "<style>#sk-container-id-4 {color: black;background-color: white;}#sk-container-id-4 pre{padding: 0;}#sk-container-id-4 div.sk-toggleable {background-color: white;}#sk-container-id-4 label.sk-toggleable__label {cursor: pointer;display: block;width: 100%;margin-bottom: 0;padding: 0.3em;box-sizing: border-box;text-align: center;}#sk-container-id-4 label.sk-toggleable__label-arrow:before {content: \"▸\";float: left;margin-right: 0.25em;color: #696969;}#sk-container-id-4 label.sk-toggleable__label-arrow:hover:before {color: black;}#sk-container-id-4 div.sk-estimator:hover label.sk-toggleable__label-arrow:before {color: black;}#sk-container-id-4 div.sk-toggleable__content {max-height: 0;max-width: 0;overflow: hidden;text-align: left;background-color: #f0f8ff;}#sk-container-id-4 div.sk-toggleable__content pre {margin: 0.2em;color: black;border-radius: 0.25em;background-color: #f0f8ff;}#sk-container-id-4 input.sk-toggleable__control:checked~div.sk-toggleable__content {max-height: 200px;max-width: 100%;overflow: auto;}#sk-container-id-4 input.sk-toggleable__control:checked~label.sk-toggleable__label-arrow:before {content: \"▾\";}#sk-container-id-4 div.sk-estimator input.sk-toggleable__control:checked~label.sk-toggleable__label {background-color: #d4ebff;}#sk-container-id-4 div.sk-label input.sk-toggleable__control:checked~label.sk-toggleable__label {background-color: #d4ebff;}#sk-container-id-4 input.sk-hidden--visually {border: 0;clip: rect(1px 1px 1px 1px);clip: rect(1px, 1px, 1px, 1px);height: 1px;margin: -1px;overflow: hidden;padding: 0;position: absolute;width: 1px;}#sk-container-id-4 div.sk-estimator {font-family: monospace;background-color: #f0f8ff;border: 1px dotted black;border-radius: 0.25em;box-sizing: border-box;margin-bottom: 0.5em;}#sk-container-id-4 div.sk-estimator:hover {background-color: #d4ebff;}#sk-container-id-4 div.sk-parallel-item::after {content: \"\";width: 100%;border-bottom: 1px solid gray;flex-grow: 1;}#sk-container-id-4 div.sk-label:hover label.sk-toggleable__label {background-color: #d4ebff;}#sk-container-id-4 div.sk-serial::before {content: \"\";position: absolute;border-left: 1px solid gray;box-sizing: border-box;top: 0;bottom: 0;left: 50%;z-index: 0;}#sk-container-id-4 div.sk-serial {display: flex;flex-direction: column;align-items: center;background-color: white;padding-right: 0.2em;padding-left: 0.2em;position: relative;}#sk-container-id-4 div.sk-item {position: relative;z-index: 1;}#sk-container-id-4 div.sk-parallel {display: flex;align-items: stretch;justify-content: center;background-color: white;position: relative;}#sk-container-id-4 div.sk-item::before, #sk-container-id-4 div.sk-parallel-item::before {content: \"\";position: absolute;border-left: 1px solid gray;box-sizing: border-box;top: 0;bottom: 0;left: 50%;z-index: -1;}#sk-container-id-4 div.sk-parallel-item {display: flex;flex-direction: column;z-index: 1;position: relative;background-color: white;}#sk-container-id-4 div.sk-parallel-item:first-child::after {align-self: flex-end;width: 50%;}#sk-container-id-4 div.sk-parallel-item:last-child::after {align-self: flex-start;width: 50%;}#sk-container-id-4 div.sk-parallel-item:only-child::after {width: 0;}#sk-container-id-4 div.sk-dashed-wrapped {border: 1px dashed gray;margin: 0 0.4em 0.5em 0.4em;box-sizing: border-box;padding-bottom: 0.4em;background-color: white;}#sk-container-id-4 div.sk-label label {font-family: monospace;font-weight: bold;display: inline-block;line-height: 1.2em;}#sk-container-id-4 div.sk-label-container {text-align: center;}#sk-container-id-4 div.sk-container {/* jupyter's `normalize.less` sets `[hidden] { display: none; }` but bootstrap.min.css set `[hidden] { display: none !important; }` so we also need the `!important` here to be able to override the default hidden behavior on the sphinx rendered scikit-learn.org. See: https://github.com/scikit-learn/scikit-learn/issues/21755 */display: inline-block !important;position: relative;}#sk-container-id-4 div.sk-text-repr-fallback {display: none;}</style><div id=\"sk-container-id-4\" class=\"sk-top-container\"><div class=\"sk-text-repr-fallback\"><pre>DecisionTreeClassifier()</pre><b>In a Jupyter environment, please rerun this cell to show the HTML representation or trust the notebook. <br />On GitHub, the HTML representation is unable to render, please try loading this page with nbviewer.org.</b></div><div class=\"sk-container\" hidden><div class=\"sk-item\"><div class=\"sk-estimator sk-toggleable\"><input class=\"sk-toggleable__control sk-hidden--visually\" id=\"sk-estimator-id-4\" type=\"checkbox\" checked><label for=\"sk-estimator-id-4\" class=\"sk-toggleable__label sk-toggleable__label-arrow\">DecisionTreeClassifier</label><div class=\"sk-toggleable__content\"><pre>DecisionTreeClassifier()</pre></div></div></div></div></div>"
      ],
      "text/plain": [
       "DecisionTreeClassifier()"
      ]
     },
     "execution_count": 60,
     "metadata": {},
     "output_type": "execute_result"
    }
   ],
   "source": [
    "tree = DecisionTreeClassifier(criterion='gini')\n",
    "tree.fit(X_train[['chol']], y_train, sample_weight = df_weights[df_weights.columns[-1]])"
   ]
  },
  {
   "cell_type": "code",
   "execution_count": 61,
   "id": "87f8822e-50f0-4822-a054-879d73d95d0d",
   "metadata": {},
   "outputs": [],
   "source": [
    "y_hat = tree.predict(X_train[['chol']])"
   ]
  },
  {
   "cell_type": "markdown",
   "id": "8ed3f51e-2d3b-4559-932c-403de94ac05a",
   "metadata": {
    "tags": []
   },
   "source": [
    "#### Gini function"
   ]
  },
  {
   "cell_type": "code",
   "execution_count": 62,
   "id": "3ec6507b-f83a-40c4-a0cd-6f70d1a2fd9f",
   "metadata": {},
   "outputs": [
    {
     "data": {
      "image/png": "[encoded data removed]",
      "text/plain": [
       "<Figure size 200x200 with 1 Axes>"
      ]
     },
     "metadata": {},
     "output_type": "display_data"
    }
   ],
   "source": [
    "plt.figure(figsize=(2,2))\n",
    "cf = confusion_matrix(y_train, y_hat)\n",
    "sns.heatmap(cf, annot=True, fmt='.0f', cbar=False)\n",
    "plt.ylabel('Actual'), plt.xlabel('Predicted')\n",
    "plt.show()"
   ]
  },
  {
   "cell_type": "code",
   "execution_count": 44,
   "id": "a9780d55-5d41-4d7d-8dfd-e591d1ce814d",
   "metadata": {},
   "outputs": [
    {
     "data": {
      "text/plain": [
       "array([[392,  57],\n",
       "       [108, 365]], dtype=int64)"
      ]
     },
     "execution_count": 44,
     "metadata": {},
     "output_type": "execute_result"
    }
   ],
   "source": [
    "cf"
   ]
  },
  {
   "cell_type": "code",
   "execution_count": 39,
   "id": "caa14a97-7d5e-4f83-9e05-62cbd2142152",
   "metadata": {},
   "outputs": [],
   "source": [
    "#            left node,  right node\n",
    "# class_0       302         147\n",
    "# class_1       150         323\n",
    "# -------------------------------------\n",
    "# total         452         470"
   ]
  },
  {
   "cell_type": "code",
   "execution_count": 24,
   "id": "0f595130-9676-43f0-a5ff-8850b43b2a58",
   "metadata": {},
   "outputs": [
    {
     "data": {
      "text/plain": [
       "array([[0.66814159, 0.31276596],\n",
       "       [0.33185841, 0.68723404]])"
      ]
     },
     "execution_count": 24,
     "metadata": {},
     "output_type": "execute_result"
    }
   ],
   "source": [
    "# proba of each class in each leaf\n",
    "probas = cf/cf.sum(axis=0)\n",
    "probas"
   ]
  },
  {
   "cell_type": "code",
   "execution_count": 25,
   "id": "432e33ba-9965-4362-b7c7-31be21603a81",
   "metadata": {},
   "outputs": [
    {
     "data": {
      "text/plain": [
       "array([0.44345681, 0.42988683])"
      ]
     },
     "execution_count": 25,
     "metadata": {},
     "output_type": "execute_result"
    }
   ],
   "source": [
    "# gini impurity of each leaf = 1 - sum(p0^2, p1^2)\n",
    "# each value power 2, then 1 - their sum\n",
    "gini_leaf = 1 - np.sum(np.power(probas,2), axis=0)\n",
    "gini_leaf"
   ]
  },
  {
   "cell_type": "code",
   "execution_count": 26,
   "id": "3cf3076d-f4d3-4e65-9e08-cbc3901d0815",
   "metadata": {},
   "outputs": [
    {
     "data": {
      "text/plain": [
       "array([0.49023861, 0.50976139])"
      ]
     },
     "execution_count": 26,
     "metadata": {},
     "output_type": "execute_result"
    }
   ],
   "source": [
    "# weighted average (num of observations in each leaf) / total observations\n",
    "weighted_avg = cf.sum(axis=0) / cf.sum()\n",
    "weighted_avg"
   ]
  },
  {
   "cell_type": "code",
   "execution_count": 27,
   "id": "07d9205a-74d2-4e8c-b6f5-6a56595c79eb",
   "metadata": {},
   "outputs": [
    {
     "data": {
      "text/plain": [
       "0.4365393561678357"
      ]
     },
     "execution_count": 27,
     "metadata": {},
     "output_type": "execute_result"
    }
   ],
   "source": [
    "# node gini = sum of (leaf gini * weighted average)\n",
    "(gini_leaf*weighted_avg).sum()"
   ]
  },
  {
   "cell_type": "code",
   "execution_count": 28,
   "id": "1e627f06-feea-4f09-ad07-d7d5da29accf",
   "metadata": {},
   "outputs": [
    {
     "data": {
      "text/plain": [
       "0.4365393561678356"
      ]
     },
     "execution_count": 28,
     "metadata": {},
     "output_type": "execute_result"
    }
   ],
   "source": [
    "# one liner\n",
    "((1 - np.power(cf / cf.sum(axis=0),2).sum(axis=0)) * cf.sum(axis=0)/cf.sum()).sum()"
   ]
  },
  {
   "cell_type": "code",
   "execution_count": 29,
   "id": "e1296543-c6f5-4f88-b6c4-1b93aecf2f19",
   "metadata": {},
   "outputs": [],
   "source": [
    "# function\n",
    "def gini_node(y_train, y_hat):\n",
    "    cf = confusion_matrix(y_train, y_hat) + 0.1 # added constant to prevent dividing 0\n",
    "    return ((1 - np.power(cf / cf.sum(axis=0),2).sum(axis=0)) * cf.sum(axis=0)/cf.sum()).sum()"
   ]
  },
  {
   "cell_type": "code",
   "execution_count": 30,
   "id": "c39915a3-7456-48b3-b451-64a5736314e4",
   "metadata": {},
   "outputs": [
    {
     "data": {
      "text/plain": [
       "0.43659432642387175"
      ]
     },
     "execution_count": 30,
     "metadata": {},
     "output_type": "execute_result"
    }
   ],
   "source": [
    "gini_node(y_train, y_hat)"
   ]
  },
  {
   "cell_type": "code",
   "execution_count": 31,
   "id": "821e0994-08f3-412f-bb84-2260fc19524c",
   "metadata": {},
   "outputs": [],
   "source": [
    "# gini by feature\n",
    "def gini_score(feature):\n",
    "    tree = DecisionTreeClassifier(criterion='gini')\n",
    "    tree.fit(X_train[[feature]], y_train, sample_weight = df_weights[df_weights.columns[-1]])\n",
    "    y_hat = tree.predict(X_train[[feature]])\n",
    "    gini_score = gini_node(y_train, y_hat)\n",
    "    return gini_score"
   ]
  },
  {
   "cell_type": "markdown",
   "id": "2d210286-4679-4af5-aafc-0a0f34ac5b03",
   "metadata": {
    "tags": []
   },
   "source": [
    "#### Calculate gini for each feature, return lowest gini feature:"
   ]
  },
  {
   "cell_type": "code",
   "execution_count": 32,
   "id": "7e5372f8-bcc0-4d94-98c8-a22598aee3c5",
   "metadata": {},
   "outputs": [
    {
     "data": {
      "text/html": [
       "<div>\n",
       "<style scoped>\n",
       "    .dataframe tbody tr th:only-of-type {\n",
       "        vertical-align: middle;\n",
       "    }\n",
       "\n",
       "    .dataframe tbody tr th {\n",
       "        vertical-align: top;\n",
       "    }\n",
       "\n",
       "    .dataframe thead th {\n",
       "        text-align: right;\n",
       "    }\n",
       "</style>\n",
       "<table border=\"1\" class=\"dataframe\">\n",
       "  <thead>\n",
       "    <tr style=\"text-align: right;\">\n",
       "      <th></th>\n",
       "      <th>features</th>\n",
       "      <th>gini</th>\n",
       "    </tr>\n",
       "  </thead>\n",
       "  <tbody>\n",
       "    <tr>\n",
       "      <th>0</th>\n",
       "      <td>chol</td>\n",
       "      <td>0.290797</td>\n",
       "    </tr>\n",
       "    <tr>\n",
       "      <th>1</th>\n",
       "      <td>cp</td>\n",
       "      <td>0.366824</td>\n",
       "    </tr>\n",
       "    <tr>\n",
       "      <th>2</th>\n",
       "      <td>thal</td>\n",
       "      <td>0.371269</td>\n",
       "    </tr>\n",
       "    <tr>\n",
       "      <th>3</th>\n",
       "      <td>thalach</td>\n",
       "      <td>0.376709</td>\n",
       "    </tr>\n",
       "    <tr>\n",
       "      <th>4</th>\n",
       "      <td>ca</td>\n",
       "      <td>0.382859</td>\n",
       "    </tr>\n",
       "    <tr>\n",
       "      <th>5</th>\n",
       "      <td>oldpeak</td>\n",
       "      <td>0.386015</td>\n",
       "    </tr>\n",
       "    <tr>\n",
       "      <th>6</th>\n",
       "      <td>exang</td>\n",
       "      <td>0.404030</td>\n",
       "    </tr>\n",
       "    <tr>\n",
       "      <th>7</th>\n",
       "      <td>slope</td>\n",
       "      <td>0.423274</td>\n",
       "    </tr>\n",
       "    <tr>\n",
       "      <th>8</th>\n",
       "      <td>age</td>\n",
       "      <td>0.436594</td>\n",
       "    </tr>\n",
       "    <tr>\n",
       "      <th>9</th>\n",
       "      <td>trestbps</td>\n",
       "      <td>0.459517</td>\n",
       "    </tr>\n",
       "    <tr>\n",
       "      <th>10</th>\n",
       "      <td>sex</td>\n",
       "      <td>0.463465</td>\n",
       "    </tr>\n",
       "    <tr>\n",
       "      <th>11</th>\n",
       "      <td>restecg</td>\n",
       "      <td>0.481949</td>\n",
       "    </tr>\n",
       "    <tr>\n",
       "      <th>12</th>\n",
       "      <td>fbs</td>\n",
       "      <td>0.499661</td>\n",
       "    </tr>\n",
       "  </tbody>\n",
       "</table>\n",
       "</div>"
      ],
      "text/plain": [
       "    features      gini\n",
       "0       chol  0.290797\n",
       "1         cp  0.366824\n",
       "2       thal  0.371269\n",
       "3    thalach  0.376709\n",
       "4         ca  0.382859\n",
       "5    oldpeak  0.386015\n",
       "6      exang  0.404030\n",
       "7      slope  0.423274\n",
       "8        age  0.436594\n",
       "9   trestbps  0.459517\n",
       "10       sex  0.463465\n",
       "11   restecg  0.481949\n",
       "12       fbs  0.499661"
      ]
     },
     "execution_count": 32,
     "metadata": {},
     "output_type": "execute_result"
    }
   ],
   "source": [
    "gini_features = pd.DataFrame({\n",
    "    'features': features,\n",
    "    'gini': [gini_score(feature) for feature in features]\n",
    "}).sort_values('gini').reset_index(drop=True)\n",
    "gini_features"
   ]
  },
  {
   "cell_type": "code",
   "execution_count": 33,
   "id": "d68dc08c-4c99-4d25-845e-a2aa8c3b7853",
   "metadata": {},
   "outputs": [
    {
     "data": {
      "text/plain": [
       "'chol'"
      ]
     },
     "execution_count": 33,
     "metadata": {},
     "output_type": "execute_result"
    }
   ],
   "source": [
    "lowest_gini_feature = gini_features.features[0]\n",
    "lowest_gini_feature"
   ]
  },
  {
   "cell_type": "code",
   "execution_count": 34,
   "id": "b92d1cc6-0f43-46c8-8e3a-4ea0b9ae8b0c",
   "metadata": {},
   "outputs": [],
   "source": [
    "def best_feature_from(features):\n",
    "    gini_features = pd.DataFrame({\n",
    "    'features': features,\n",
    "    'gini': [gini_score(feature) for feature in features]\n",
    "    }).sort_values('gini').reset_index(drop=True)\n",
    "    return gini_features.features[0]"
   ]
  },
  {
   "cell_type": "code",
   "execution_count": 35,
   "id": "f5832b18-87c6-4746-86d8-019872ce3207",
   "metadata": {},
   "outputs": [
    {
     "data": {
      "text/plain": [
       "'chol'"
      ]
     },
     "execution_count": 35,
     "metadata": {},
     "output_type": "execute_result"
    }
   ],
   "source": [
    "lowest_gini_feature = best_feature_from(features)\n",
    "lowest_gini_feature"
   ]
  },
  {
   "cell_type": "markdown",
   "id": "916c46c1-edcc-4cde-b92c-eb16dcb7ebb3",
   "metadata": {},
   "source": [
    "### Step 3. Calculate alpha (amount of say)"
   ]
  },
  {
   "cell_type": "code",
   "execution_count": 76,
   "id": "010e2e4e-6ab3-4ebd-a708-2b83d05c59aa",
   "metadata": {},
   "outputs": [],
   "source": [
    "def feature_alpha(feature):\n",
    "    tree = DecisionTreeClassifier(criterion='gini')\n",
    "    tree.fit(X_train[[feature]], y_train, sample_weight = df_weights[df_weights.columns[-1]])\n",
    "    y_hat = tree.predict(X_train[[feature]])\n",
    "\n",
    "    total_error = df_weights[df_weights.columns[-1]][y_train!=y_hat].sum()\n",
    "    alpha = 0.5 * np.log((1-total_error)/total_error)\n",
    "    return alpha"
   ]
  },
  {
   "cell_type": "code",
   "execution_count": 77,
   "id": "abee2274-1b0a-46c6-b3b1-6863e865b566",
   "metadata": {},
   "outputs": [
    {
     "data": {
      "text/plain": [
       "'chol'"
      ]
     },
     "execution_count": 77,
     "metadata": {},
     "output_type": "execute_result"
    }
   ],
   "source": [
    "lowest_gini_feature"
   ]
  },
  {
   "cell_type": "code",
   "execution_count": 78,
   "id": "9a780d5a-68f1-4b5a-9cd2-fa783eaf375f",
   "metadata": {},
   "outputs": [
    {
     "data": {
      "text/plain": [
       "0.7617088897684342"
      ]
     },
     "execution_count": 78,
     "metadata": {},
     "output_type": "execute_result"
    }
   ],
   "source": [
    "alpha = feature_alpha(lowest_gini_feature)\n",
    "alpha"
   ]
  },
  {
   "cell_type": "code",
   "execution_count": 79,
   "id": "8fc98b84-3d2f-4e96-a0eb-429d422530f3",
   "metadata": {},
   "outputs": [
    {
     "data": {
      "text/html": [
       "<div>\n",
       "<style scoped>\n",
       "    .dataframe tbody tr th:only-of-type {\n",
       "        vertical-align: middle;\n",
       "    }\n",
       "\n",
       "    .dataframe tbody tr th {\n",
       "        vertical-align: top;\n",
       "    }\n",
       "\n",
       "    .dataframe thead th {\n",
       "        text-align: right;\n",
       "    }\n",
       "</style>\n",
       "<table border=\"1\" class=\"dataframe\">\n",
       "  <thead>\n",
       "    <tr style=\"text-align: right;\">\n",
       "      <th></th>\n",
       "      <th>feature</th>\n",
       "      <th>alpha</th>\n",
       "    </tr>\n",
       "  </thead>\n",
       "  <tbody>\n",
       "    <tr>\n",
       "      <th>0</th>\n",
       "      <td>chol</td>\n",
       "      <td>0.761709</td>\n",
       "    </tr>\n",
       "  </tbody>\n",
       "</table>\n",
       "</div>"
      ],
      "text/plain": [
       "  feature     alpha\n",
       "0    chol  0.761709"
      ]
     },
     "execution_count": 79,
     "metadata": {},
     "output_type": "execute_result"
    }
   ],
   "source": [
    "df_alphas = pd.concat([df_alphas, pd.DataFrame({'feature': [lowest_gini_feature], 'alpha':[alpha]})], ignore_index=True)\n",
    "df_alphas"
   ]
  },
  {
   "cell_type": "markdown",
   "id": "e7a026d8-fd56-461b-84d5-aa61af4baf0f",
   "metadata": {},
   "source": [
    "### Step 4. Update weight"
   ]
  },
  {
   "attachments": {
    "afed17e3-3ae8-43ac-abc7-4e26862dcf27.png": {
     "image/png": "[encoded data removed]"
    },
    "d84e9d24-17c8-47c2-b91c-76e87980d54d.png": {
     "image/png": "[encoded data removed]"
    }
   },
   "cell_type": "markdown",
   "id": "635def04-be0d-4806-9092-6166fe754b5e",
   "metadata": {},
   "source": [
    "![image.png](attachment:afed17e3-3ae8-43ac-abc7-4e26862dcf27.png)![image.png](attachment:d84e9d24-17c8-47c2-b91c-76e87980d54d.png)"
   ]
  },
  {
   "cell_type": "code",
   "execution_count": 80,
   "id": "4e7e2b3c-ac69-4fa2-a356-bce87775ff8e",
   "metadata": {},
   "outputs": [
    {
     "data": {
      "text/html": [
       "<div>\n",
       "<style scoped>\n",
       "    .dataframe tbody tr th:only-of-type {\n",
       "        vertical-align: middle;\n",
       "    }\n",
       "\n",
       "    .dataframe tbody tr th {\n",
       "        vertical-align: top;\n",
       "    }\n",
       "\n",
       "    .dataframe thead th {\n",
       "        text-align: right;\n",
       "    }\n",
       "</style>\n",
       "<table border=\"1\" class=\"dataframe\">\n",
       "  <thead>\n",
       "    <tr style=\"text-align: right;\">\n",
       "      <th></th>\n",
       "      <th>target</th>\n",
       "      <th>init_weights</th>\n",
       "    </tr>\n",
       "  </thead>\n",
       "  <tbody>\n",
       "    <tr>\n",
       "      <th>467</th>\n",
       "      <td>0</td>\n",
       "      <td>0.001085</td>\n",
       "    </tr>\n",
       "    <tr>\n",
       "      <th>537</th>\n",
       "      <td>1</td>\n",
       "      <td>0.001085</td>\n",
       "    </tr>\n",
       "    <tr>\n",
       "      <th>258</th>\n",
       "      <td>0</td>\n",
       "      <td>0.001085</td>\n",
       "    </tr>\n",
       "    <tr>\n",
       "      <th>1017</th>\n",
       "      <td>0</td>\n",
       "      <td>0.001085</td>\n",
       "    </tr>\n",
       "    <tr>\n",
       "      <th>152</th>\n",
       "      <td>0</td>\n",
       "      <td>0.001085</td>\n",
       "    </tr>\n",
       "    <tr>\n",
       "      <th>...</th>\n",
       "      <td>...</td>\n",
       "      <td>...</td>\n",
       "    </tr>\n",
       "    <tr>\n",
       "      <th>137</th>\n",
       "      <td>1</td>\n",
       "      <td>0.001085</td>\n",
       "    </tr>\n",
       "    <tr>\n",
       "      <th>300</th>\n",
       "      <td>1</td>\n",
       "      <td>0.001085</td>\n",
       "    </tr>\n",
       "    <tr>\n",
       "      <th>430</th>\n",
       "      <td>0</td>\n",
       "      <td>0.001085</td>\n",
       "    </tr>\n",
       "    <tr>\n",
       "      <th>507</th>\n",
       "      <td>1</td>\n",
       "      <td>0.001085</td>\n",
       "    </tr>\n",
       "    <tr>\n",
       "      <th>963</th>\n",
       "      <td>0</td>\n",
       "      <td>0.001085</td>\n",
       "    </tr>\n",
       "  </tbody>\n",
       "</table>\n",
       "<p>922 rows × 2 columns</p>\n",
       "</div>"
      ],
      "text/plain": [
       "      target  init_weights\n",
       "467        0      0.001085\n",
       "537        1      0.001085\n",
       "258        0      0.001085\n",
       "1017       0      0.001085\n",
       "152        0      0.001085\n",
       "...      ...           ...\n",
       "137        1      0.001085\n",
       "300        1      0.001085\n",
       "430        0      0.001085\n",
       "507        1      0.001085\n",
       "963        0      0.001085\n",
       "\n",
       "[922 rows x 2 columns]"
      ]
     },
     "execution_count": 80,
     "metadata": {},
     "output_type": "execute_result"
    }
   ],
   "source": [
    "df_weights"
   ]
  },
  {
   "cell_type": "code",
   "execution_count": 81,
   "id": "112ae162-df5e-4d4c-825a-97e09914d8e9",
   "metadata": {},
   "outputs": [],
   "source": [
    "def update_weights(lowest_gini_feature):\n",
    "    df_weights[lowest_gini_feature+'_weights'] = 0\n",
    "    tree = DecisionTreeClassifier(criterion='gini')\n",
    "    tree.fit(X_train[[lowest_gini_feature]], y_train, sample_weight = df_weights[df_weights.columns[-2]])\n",
    "    y_hat = tree.predict(X_train[[lowest_gini_feature]])\n",
    "    # wrongly classified\n",
    "    df_weights[df_weights.columns[-1]][y_train!=y_hat] = df_weights[df_weights.columns[-2]][y_train!=y_hat] * np.exp(alpha)\n",
    "\n",
    "    # correctly classified\n",
    "    df_weights[df_weights.columns[-1]][y_train==y_hat] = df_weights[df_weights.columns[-2]][y_train==y_hat] * np.exp(-alpha)\n",
    "    \n",
    "    # normalize\n",
    "    df_weights[df_weights.columns[-1]] = (df_weights[df_weights.columns[-1]]/df_weights[df_weights.columns[-1]].sum())"
   ]
  },
  {
   "cell_type": "code",
   "execution_count": 82,
   "id": "045a0a22-8a78-45ea-94a0-68232f589abe",
   "metadata": {},
   "outputs": [
    {
     "name": "stderr",
     "output_type": "stream",
     "text": [
      "C:\\Users\\nguye_5159g\\AppData\\Local\\Temp\\ipykernel_24496\\3137093861.py:7: SettingWithCopyWarning: \n",
      "A value is trying to be set on a copy of a slice from a DataFrame\n",
      "\n",
      "See the caveats in the documentation: https://pandas.pydata.org/pandas-docs/stable/user_guide/indexing.html#returning-a-view-versus-a-copy\n",
      "  df_weights[df_weights.columns[-1]][y_train!=y_hat] = df_weights[df_weights.columns[-2]][y_train!=y_hat] * np.exp(alpha)\n"
     ]
    }
   ],
   "source": [
    "update_weights(lowest_gini_feature)"
   ]
  },
  {
   "cell_type": "code",
   "execution_count": 83,
   "id": "7a412cc0-c3a8-46bd-8c5c-2490eb043a6e",
   "metadata": {},
   "outputs": [
    {
     "data": {
      "text/html": [
       "<div>\n",
       "<style scoped>\n",
       "    .dataframe tbody tr th:only-of-type {\n",
       "        vertical-align: middle;\n",
       "    }\n",
       "\n",
       "    .dataframe tbody tr th {\n",
       "        vertical-align: top;\n",
       "    }\n",
       "\n",
       "    .dataframe thead th {\n",
       "        text-align: right;\n",
       "    }\n",
       "</style>\n",
       "<table border=\"1\" class=\"dataframe\">\n",
       "  <thead>\n",
       "    <tr style=\"text-align: right;\">\n",
       "      <th></th>\n",
       "      <th>target</th>\n",
       "      <th>init_weights</th>\n",
       "      <th>chol_weights</th>\n",
       "    </tr>\n",
       "  </thead>\n",
       "  <tbody>\n",
       "    <tr>\n",
       "      <th>467</th>\n",
       "      <td>0</td>\n",
       "      <td>0.001085</td>\n",
       "      <td>0.000382</td>\n",
       "    </tr>\n",
       "    <tr>\n",
       "      <th>537</th>\n",
       "      <td>1</td>\n",
       "      <td>0.001085</td>\n",
       "      <td>0.001752</td>\n",
       "    </tr>\n",
       "    <tr>\n",
       "      <th>258</th>\n",
       "      <td>0</td>\n",
       "      <td>0.001085</td>\n",
       "      <td>0.000382</td>\n",
       "    </tr>\n",
       "    <tr>\n",
       "      <th>1017</th>\n",
       "      <td>0</td>\n",
       "      <td>0.001085</td>\n",
       "      <td>0.000382</td>\n",
       "    </tr>\n",
       "    <tr>\n",
       "      <th>152</th>\n",
       "      <td>0</td>\n",
       "      <td>0.001085</td>\n",
       "      <td>0.000382</td>\n",
       "    </tr>\n",
       "    <tr>\n",
       "      <th>...</th>\n",
       "      <td>...</td>\n",
       "      <td>...</td>\n",
       "      <td>...</td>\n",
       "    </tr>\n",
       "    <tr>\n",
       "      <th>137</th>\n",
       "      <td>1</td>\n",
       "      <td>0.001085</td>\n",
       "      <td>0.001752</td>\n",
       "    </tr>\n",
       "    <tr>\n",
       "      <th>300</th>\n",
       "      <td>1</td>\n",
       "      <td>0.001085</td>\n",
       "      <td>0.001752</td>\n",
       "    </tr>\n",
       "    <tr>\n",
       "      <th>430</th>\n",
       "      <td>0</td>\n",
       "      <td>0.001085</td>\n",
       "      <td>0.000382</td>\n",
       "    </tr>\n",
       "    <tr>\n",
       "      <th>507</th>\n",
       "      <td>1</td>\n",
       "      <td>0.001085</td>\n",
       "      <td>0.001752</td>\n",
       "    </tr>\n",
       "    <tr>\n",
       "      <th>963</th>\n",
       "      <td>0</td>\n",
       "      <td>0.001085</td>\n",
       "      <td>0.000382</td>\n",
       "    </tr>\n",
       "  </tbody>\n",
       "</table>\n",
       "<p>922 rows × 3 columns</p>\n",
       "</div>"
      ],
      "text/plain": [
       "      target  init_weights  chol_weights\n",
       "467        0      0.001085      0.000382\n",
       "537        1      0.001085      0.001752\n",
       "258        0      0.001085      0.000382\n",
       "1017       0      0.001085      0.000382\n",
       "152        0      0.001085      0.000382\n",
       "...      ...           ...           ...\n",
       "137        1      0.001085      0.001752\n",
       "300        1      0.001085      0.001752\n",
       "430        0      0.001085      0.000382\n",
       "507        1      0.001085      0.001752\n",
       "963        0      0.001085      0.000382\n",
       "\n",
       "[922 rows x 3 columns]"
      ]
     },
     "execution_count": 83,
     "metadata": {},
     "output_type": "execute_result"
    }
   ],
   "source": [
    "df_weights"
   ]
  },
  {
   "cell_type": "code",
   "execution_count": 84,
   "id": "492c3198-9f45-4aef-a414-a18e4c189c8c",
   "metadata": {},
   "outputs": [
    {
     "data": {
      "text/plain": [
       "1.0"
      ]
     },
     "execution_count": 84,
     "metadata": {},
     "output_type": "execute_result"
    }
   ],
   "source": [
    "df_weights[df_weights.columns[-1]].sum()"
   ]
  },
  {
   "cell_type": "markdown",
   "id": "88ae961d-6228-408d-87c3-ae2c68298fb8",
   "metadata": {},
   "source": [
    "### Next iteration. Create second decision stump, with updated weights"
   ]
  },
  {
   "cell_type": "code",
   "execution_count": 85,
   "id": "b6939410-bf3e-4dbc-9079-0e634b522ae0",
   "metadata": {},
   "outputs": [
    {
     "data": {
      "text/plain": [
       "['age',\n",
       " 'sex',\n",
       " 'cp',\n",
       " 'trestbps',\n",
       " 'fbs',\n",
       " 'restecg',\n",
       " 'thalach',\n",
       " 'exang',\n",
       " 'oldpeak',\n",
       " 'slope',\n",
       " 'ca',\n",
       " 'thal']"
      ]
     },
     "execution_count": 85,
     "metadata": {},
     "output_type": "execute_result"
    }
   ],
   "source": [
    "# drop best features from features\n",
    "features.remove(lowest_gini_feature)\n",
    "features"
   ]
  },
  {
   "cell_type": "code",
   "execution_count": 86,
   "id": "b210bbfc-0dda-4ce7-b2be-2a090d7626e3",
   "metadata": {},
   "outputs": [
    {
     "data": {
      "text/plain": [
       "'oldpeak'"
      ]
     },
     "execution_count": 86,
     "metadata": {},
     "output_type": "execute_result"
    }
   ],
   "source": [
    "lowest_gini_feature = best_feature_from(features)\n",
    "lowest_gini_feature"
   ]
  },
  {
   "cell_type": "code",
   "execution_count": 87,
   "id": "e353076c-96a5-4459-b434-8009d64a4d8c",
   "metadata": {},
   "outputs": [
    {
     "data": {
      "text/plain": [
       "0.9464401715180099"
      ]
     },
     "execution_count": 87,
     "metadata": {},
     "output_type": "execute_result"
    }
   ],
   "source": [
    "alpha = feature_alpha(lowest_gini_feature)\n",
    "alpha"
   ]
  },
  {
   "cell_type": "code",
   "execution_count": 88,
   "id": "4f9a85ad-a951-458f-bee7-09be9e5f6622",
   "metadata": {},
   "outputs": [
    {
     "data": {
      "text/html": [
       "<div>\n",
       "<style scoped>\n",
       "    .dataframe tbody tr th:only-of-type {\n",
       "        vertical-align: middle;\n",
       "    }\n",
       "\n",
       "    .dataframe tbody tr th {\n",
       "        vertical-align: top;\n",
       "    }\n",
       "\n",
       "    .dataframe thead th {\n",
       "        text-align: right;\n",
       "    }\n",
       "</style>\n",
       "<table border=\"1\" class=\"dataframe\">\n",
       "  <thead>\n",
       "    <tr style=\"text-align: right;\">\n",
       "      <th></th>\n",
       "      <th>feature</th>\n",
       "      <th>alpha</th>\n",
       "    </tr>\n",
       "  </thead>\n",
       "  <tbody>\n",
       "    <tr>\n",
       "      <th>0</th>\n",
       "      <td>chol</td>\n",
       "      <td>0.761709</td>\n",
       "    </tr>\n",
       "    <tr>\n",
       "      <th>1</th>\n",
       "      <td>oldpeak</td>\n",
       "      <td>0.946440</td>\n",
       "    </tr>\n",
       "  </tbody>\n",
       "</table>\n",
       "</div>"
      ],
      "text/plain": [
       "   feature     alpha\n",
       "0     chol  0.761709\n",
       "1  oldpeak  0.946440"
      ]
     },
     "execution_count": 88,
     "metadata": {},
     "output_type": "execute_result"
    }
   ],
   "source": [
    "df_alphas = pd.concat([df_alphas, pd.DataFrame({'feature': [lowest_gini_feature], 'alpha':[alpha]})], ignore_index=True)\n",
    "df_alphas"
   ]
  },
  {
   "cell_type": "code",
   "execution_count": null,
   "id": "d8dcb0a9-d67d-4751-b063-61a24bc23f53",
   "metadata": {},
   "outputs": [],
   "source": []
  },
  {
   "cell_type": "markdown",
   "id": "7f986047-6e54-4216-98e3-ef84f8c33ca8",
   "metadata": {},
   "source": [
    "### Create third decision stump, with updated weights"
   ]
  },
  {
   "cell_type": "code",
   "execution_count": 89,
   "id": "fac468b7-5394-4537-99dd-4d1be16e8969",
   "metadata": {},
   "outputs": [
    {
     "data": {
      "text/plain": [
       "['age',\n",
       " 'sex',\n",
       " 'cp',\n",
       " 'trestbps',\n",
       " 'fbs',\n",
       " 'restecg',\n",
       " 'thalach',\n",
       " 'exang',\n",
       " 'slope',\n",
       " 'ca',\n",
       " 'thal']"
      ]
     },
     "execution_count": 89,
     "metadata": {},
     "output_type": "execute_result"
    }
   ],
   "source": [
    "# drop best features from features\n",
    "features.remove(lowest_gini_feature)\n",
    "features"
   ]
  },
  {
   "cell_type": "code",
   "execution_count": 90,
   "id": "8e824907-737f-4489-b91a-3200674fe262",
   "metadata": {},
   "outputs": [
    {
     "data": {
      "text/plain": [
       "'thalach'"
      ]
     },
     "execution_count": 90,
     "metadata": {},
     "output_type": "execute_result"
    }
   ],
   "source": [
    "lowest_gini_feature = best_feature_from(features)\n",
    "lowest_gini_feature"
   ]
  },
  {
   "cell_type": "code",
   "execution_count": 91,
   "id": "d79f7edc-f6ff-4292-b0c8-5d3d54ad18a3",
   "metadata": {},
   "outputs": [
    {
     "data": {
      "text/plain": [
       "0.9567795023260477"
      ]
     },
     "execution_count": 91,
     "metadata": {},
     "output_type": "execute_result"
    }
   ],
   "source": [
    "alpha = feature_alpha(lowest_gini_feature)\n",
    "alpha"
   ]
  },
  {
   "cell_type": "code",
   "execution_count": 92,
   "id": "1ff6662e-5931-479b-904c-3585fdb83ce4",
   "metadata": {},
   "outputs": [
    {
     "data": {
      "text/html": [
       "<div>\n",
       "<style scoped>\n",
       "    .dataframe tbody tr th:only-of-type {\n",
       "        vertical-align: middle;\n",
       "    }\n",
       "\n",
       "    .dataframe tbody tr th {\n",
       "        vertical-align: top;\n",
       "    }\n",
       "\n",
       "    .dataframe thead th {\n",
       "        text-align: right;\n",
       "    }\n",
       "</style>\n",
       "<table border=\"1\" class=\"dataframe\">\n",
       "  <thead>\n",
       "    <tr style=\"text-align: right;\">\n",
       "      <th></th>\n",
       "      <th>feature</th>\n",
       "      <th>alpha</th>\n",
       "    </tr>\n",
       "  </thead>\n",
       "  <tbody>\n",
       "    <tr>\n",
       "      <th>0</th>\n",
       "      <td>chol</td>\n",
       "      <td>0.761709</td>\n",
       "    </tr>\n",
       "    <tr>\n",
       "      <th>1</th>\n",
       "      <td>oldpeak</td>\n",
       "      <td>0.946440</td>\n",
       "    </tr>\n",
       "    <tr>\n",
       "      <th>2</th>\n",
       "      <td>thalach</td>\n",
       "      <td>0.956780</td>\n",
       "    </tr>\n",
       "  </tbody>\n",
       "</table>\n",
       "</div>"
      ],
      "text/plain": [
       "   feature     alpha\n",
       "0     chol  0.761709\n",
       "1  oldpeak  0.946440\n",
       "2  thalach  0.956780"
      ]
     },
     "execution_count": 92,
     "metadata": {},
     "output_type": "execute_result"
    }
   ],
   "source": [
    "df_alphas = pd.concat([df_alphas, pd.DataFrame({'feature': [lowest_gini_feature], 'alpha':[alpha]})], ignore_index=True)\n",
    "df_alphas"
   ]
  },
  {
   "cell_type": "markdown",
   "id": "3df08220-a73c-4039-a42a-fe0859d9a694",
   "metadata": {},
   "source": [
    "# 3. Combined in functions"
   ]
  },
  {
   "cell_type": "code",
   "execution_count": 1,
   "id": "c22fb06a-6c1f-4fcb-86e7-eb7ea101d7a2",
   "metadata": {},
   "outputs": [],
   "source": [
    "import pandas as pd, numpy as np\n",
    "import matplotlib.pyplot as plt\n",
    "import seaborn as sns\n",
    "import sklearn\n",
    "from sklearn.model_selection import train_test_split\n",
    "from sklearn.metrics import accuracy_score, confusion_matrix, classification_report\n",
    "from sklearn.tree import DecisionTreeClassifier\n",
    "\n",
    "import warnings\n",
    "warnings.filterwarnings('ignore')"
   ]
  },
  {
   "cell_type": "code",
   "execution_count": 2,
   "id": "65263556-8673-4071-822a-eb4046ef2f9a",
   "metadata": {},
   "outputs": [],
   "source": [
    "df = pd.read_csv('heart.csv')\n",
    "X_train, X_test, y_train, y_test = train_test_split(df.drop(columns='target'), df.target, stratify = df.target, test_size=0.3, random_state=14)"
   ]
  },
  {
   "cell_type": "code",
   "execution_count": 158,
   "id": "408246fe-f260-45ef-8822-82bf695fc05d",
   "metadata": {},
   "outputs": [],
   "source": [
    "# gini impurity for each node\n",
    "def gini_node(y_train, y_hat):\n",
    "    cf = confusion_matrix(y_train, y_hat) + 0.1 # added constant to prevent dividing 0\n",
    "    return ((1 - np.power(cf / cf.sum(axis=0),2).sum(axis=0)) * cf.sum(axis=0)/cf.sum()).sum()"
   ]
  },
  {
   "cell_type": "code",
   "execution_count": 159,
   "id": "7bebc858-4291-4f07-a02a-2b610149259f",
   "metadata": {},
   "outputs": [],
   "source": [
    "# gini impurity by feature\n",
    "def gini_score(X_sampled, y_sampled, feature, df_weights):\n",
    "    tree = DecisionTreeClassifier(criterion='gini', random_state=1)\n",
    "    tree.fit(X_sampled[[feature]], y_sampled, sample_weight = df_weights[df_weights.columns[-1]])\n",
    "    y_hat = tree.predict(X_sampled[[feature]])\n",
    "    gini_impurity = gini_node(y_sampled, y_hat)\n",
    "    return gini_impurity"
   ]
  },
  {
   "cell_type": "code",
   "execution_count": 160,
   "id": "01f2a6f7-51e2-420d-b536-fa5a2bfb4976",
   "metadata": {},
   "outputs": [],
   "source": [
    "# select the best feature (lowest gini impurity) for each iteration\n",
    "def best_feature_from(X_sampled, y_sampled, features, df_weights):\n",
    "    gini_features = pd.DataFrame({\n",
    "    'features': features,\n",
    "    'gini': [gini_score(X_sampled, y_sampled, feature, df_weights) for feature in features]\n",
    "    }).sort_values('gini').reset_index(drop=True)\n",
    "    return gini_features.features[0]"
   ]
  },
  {
   "cell_type": "code",
   "execution_count": 161,
   "id": "6d8ba796-4afa-4fa9-9750-40701c2ee6b8",
   "metadata": {},
   "outputs": [],
   "source": [
    "# calculate alpha\n",
    "def feature_alpha(X_sampled, y_sampled, feature, df_weights):\n",
    "    tree = DecisionTreeClassifier(criterion='gini', random_state=1)\n",
    "    tree.fit(X_sampled[[feature]], y_sampled, sample_weight = df_weights[df_weights.columns[-1]])\n",
    "    y_hat = tree.predict(X_sampled[[feature]])\n",
    "    \n",
    "    y_wrong_index = y_sampled[y_sampled!=y_hat].index\n",
    "    total_error = df_weights[df_weights.columns[-1]][y_wrong_index].sum()\n",
    "    alpha = 0.5 * np.log((1-total_error)/total_error)\n",
    "    return alpha, tree, y_hat"
   ]
  },
  {
   "cell_type": "code",
   "execution_count": 162,
   "id": "87eaaf5b-f8db-4186-b8c0-20ecb844db28",
   "metadata": {},
   "outputs": [],
   "source": [
    "# update weights\n",
    "def update_weights(y_hat, y_sampled, iteration_th, lowest_gini_feature, df_weights, alpha):\n",
    "    df_weights['iter_'+str(iteration_th)+'_weights'] = df_weights[df_weights.columns[-1]]\n",
    "    # tree = DecisionTreeClassifier(criterion='gini', random_state=1)\n",
    "    # careful at this. use weights from 2 previous features\n",
    "    # later can specify the specific column weight? by storing the previous lowest_gini_feature feature before calculate new one\n",
    "    # tree.fit(X_sampled[[lowest_gini_feature]], y_sampled, sample_weight = df_weights[df_weights.columns[-2]])\n",
    "    # y_hat = tree.predict(X_sampled[[lowest_gini_feature]])\n",
    "    \n",
    "    # wrongly classified\n",
    "    wrong_classified_index = y_sampled[y_sampled!=y_hat].index\n",
    "    df_weights[df_weights.columns[-1]][wrong_classified_index] = df_weights[df_weights.columns[-2]][wrong_classified_index] * np.exp(alpha)\n",
    "\n",
    "    # correctly classified\n",
    "    correct_classified_index = y_sampled[y_sampled==y_hat].index\n",
    "    df_weights[df_weights.columns[-1]][correct_classified_index] = df_weights[df_weights.columns[-2]][correct_classified_index] * np.exp(-alpha)\n",
    "\n",
    "    # normalize\n",
    "    df_weights[df_weights.columns[-1]] = (df_weights[df_weights.columns[-1]]/df_weights[df_weights.columns[-1]].sum())"
   ]
  },
  {
   "cell_type": "markdown",
   "id": "2f6dee4a-5528-419f-bafc-0cb06df32cd8",
   "metadata": {},
   "source": [
    "### Loops"
   ]
  },
  {
   "cell_type": "code",
   "execution_count": 154,
   "id": "9efa2901-68c1-4364-94b7-092b3bafd9c5",
   "metadata": {},
   "outputs": [],
   "source": [
    "def ada_fit(X_train, y_train, iters, init_random_state=3):\n",
    "    # reset features\n",
    "    features = X_train.columns.tolist()\n",
    "    \n",
    "    # add initial weights\n",
    "    df_weights = pd.DataFrame({'target': y_train})\n",
    "    df_weights['init_weights'] = 1/len(y_train)\n",
    "\n",
    "    df_alphas = pd.DataFrame()\n",
    "    \n",
    "    # assign original X_sampled, y_sampled\n",
    "    Xy_train = pd.concat([X_train, y_train], axis=1)\n",
    "    X_sampled = X_train\n",
    "    y_sampled = y_train\n",
    "    \n",
    "    for iteration_th in np.arange(1, iters+1,1):\n",
    "        # first step\n",
    "        lowest_gini_feature = best_feature_from(X_sampled, y_sampled, features, df_weights)\n",
    "\n",
    "        # alpha\n",
    "        alpha, tree, y_hat = feature_alpha(X_sampled, y_sampled, lowest_gini_feature, df_weights)\n",
    "\n",
    "        # update alpha\n",
    "        df_alphas = pd.concat([df_alphas, pd.DataFrame({'feature': [lowest_gini_feature], 'alpha':[alpha], 'tree':[tree]})], ignore_index=True)\n",
    "          \n",
    "        # update weights\n",
    "        update_weights(y_hat, y_sampled, iteration_th, lowest_gini_feature, df_weights, alpha)\n",
    "\n",
    "        # reassigned the X_sampled, y_sampled \n",
    "        Xy_sampled = Xy_train.sample(n=len(Xy_train), weights=df_weights[df_weights.columns[-1]], replace=True, random_state=init_random_state+iteration_th*2)\n",
    "        X_sampled = Xy_sampled.drop(columns='target')\n",
    "        y_sampled = Xy_sampled['target']\n",
    "    \n",
    "    # normalize alpha score\n",
    "    df_alphas.alpha = (df_alphas.alpha - df_alphas.alpha.min())  /  (df_alphas.alpha.max() - df_alphas.alpha.min())\n",
    "    return df_alphas"
   ]
  },
  {
   "cell_type": "code",
   "execution_count": 155,
   "id": "b344d859-ab92-4b27-aba8-98da8d88b61f",
   "metadata": {},
   "outputs": [],
   "source": [
    "def ada_predict(X_train, y_train, df_alphas, show_weights = False):\n",
    "    df_preds = pd.DataFrame()\n",
    "    # store prediction by each weak learner\n",
    "    for i, row in df_alphas.iterrows():\n",
    "        y_hat = row.tree.predict(X_train[[row.feature]])\n",
    "        # store prediction of each learner\n",
    "        df_preds[row.feature+'_' + str(i)] = y_hat\n",
    "        # convert 0 -> -1\n",
    "        df_preds[row.feature+'_' + str(i)][df_preds[row.feature+'_' + str(i)]==0] = -1\n",
    "        # multiply by alpha -> amount of say\n",
    "        df_preds[row.feature+'_' + str(i)] = df_preds[row.feature+'_' + str(i)]*row.alpha\n",
    "    # make weighted prediction\n",
    "    df_preds['weighted_prediction'] = df_preds.sum(axis=1)\n",
    "    # weighted predictions to final prediction\n",
    "    df_preds['final_prediction'] = df_preds['weighted_prediction'].apply(lambda x: 1 if x>0 else 0)\n",
    "    \n",
    "    # return final predictions\n",
    "    if show_weights:\n",
    "        return df_preds\n",
    "    else:\n",
    "        return df_preds.final_prediction"
   ]
  },
  {
   "cell_type": "markdown",
   "id": "d8a12930-b0a1-4441-8fc6-3bf1865835ce",
   "metadata": {},
   "source": [
    "#### Test run"
   ]
  },
  {
   "cell_type": "code",
   "execution_count": 156,
   "id": "ef819f6e-5ed8-4013-ad2b-b1b7251b3cda",
   "metadata": {},
   "outputs": [
    {
     "data": {
      "text/html": [
       "<div>\n",
       "<style scoped>\n",
       "    .dataframe tbody tr th:only-of-type {\n",
       "        vertical-align: middle;\n",
       "    }\n",
       "\n",
       "    .dataframe tbody tr th {\n",
       "        vertical-align: top;\n",
       "    }\n",
       "\n",
       "    .dataframe thead th {\n",
       "        text-align: right;\n",
       "    }\n",
       "</style>\n",
       "<table border=\"1\" class=\"dataframe\">\n",
       "  <thead>\n",
       "    <tr style=\"text-align: right;\">\n",
       "      <th></th>\n",
       "      <th>feature</th>\n",
       "      <th>alpha</th>\n",
       "      <th>tree</th>\n",
       "    </tr>\n",
       "  </thead>\n",
       "  <tbody>\n",
       "    <tr>\n",
       "      <th>0</th>\n",
       "      <td>chol</td>\n",
       "      <td>0.859767</td>\n",
       "      <td>DecisionTreeClassifier(random_state=1)</td>\n",
       "    </tr>\n",
       "    <tr>\n",
       "      <th>1</th>\n",
       "      <td>chol</td>\n",
       "      <td>1.000000</td>\n",
       "      <td>DecisionTreeClassifier(random_state=1)</td>\n",
       "    </tr>\n",
       "    <tr>\n",
       "      <th>2</th>\n",
       "      <td>chol</td>\n",
       "      <td>0.552943</td>\n",
       "      <td>DecisionTreeClassifier(random_state=1)</td>\n",
       "    </tr>\n",
       "    <tr>\n",
       "      <th>3</th>\n",
       "      <td>thalach</td>\n",
       "      <td>0.549676</td>\n",
       "      <td>DecisionTreeClassifier(random_state=1)</td>\n",
       "    </tr>\n",
       "    <tr>\n",
       "      <th>4</th>\n",
       "      <td>oldpeak</td>\n",
       "      <td>0.362845</td>\n",
       "      <td>DecisionTreeClassifier(random_state=1)</td>\n",
       "    </tr>\n",
       "  </tbody>\n",
       "</table>\n",
       "</div>"
      ],
      "text/plain": [
       "   feature     alpha                                    tree\n",
       "0     chol  0.859767  DecisionTreeClassifier(random_state=1)\n",
       "1     chol  1.000000  DecisionTreeClassifier(random_state=1)\n",
       "2     chol  0.552943  DecisionTreeClassifier(random_state=1)\n",
       "3  thalach  0.549676  DecisionTreeClassifier(random_state=1)\n",
       "4  oldpeak  0.362845  DecisionTreeClassifier(random_state=1)"
      ]
     },
     "execution_count": 156,
     "metadata": {},
     "output_type": "execute_result"
    }
   ],
   "source": [
    "alphas = ada_fit(X_train, y_train, 50, init_random_state=1) #1,2\n",
    "alphas.head()"
   ]
  },
  {
   "cell_type": "code",
   "execution_count": 157,
   "id": "2fa2dd55-4902-45eb-ae9f-267333002702",
   "metadata": {},
   "outputs": [
    {
     "name": "stdout",
     "output_type": "stream",
     "text": [
      "Accuracy train: 0.8968\n",
      "Accuracy test: 0.8864\n"
     ]
    },
    {
     "data": {
      "image/png": "[encoded data removed]",
      "text/plain": [
       "<Figure size 600x200 with 2 Axes>"
      ]
     },
     "metadata": {},
     "output_type": "display_data"
    }
   ],
   "source": [
    "yhat_train = ada_predict(X_train, y_train, alphas)\n",
    "yhat_test = ada_predict(X_test, y_test, alphas)\n",
    "\n",
    "print(f'Accuracy train: {accuracy_score(y_train, yhat_train):.4f}')\n",
    "print(f'Accuracy test: {accuracy_score(y_test, yhat_test):.4f}')\n",
    "\n",
    "fig, [ax1, ax2] = plt.subplots(ncols = 2, figsize=(6,2))\n",
    "sns.heatmap(confusion_matrix(y_train, yhat_train), annot=True, cbar=False, fmt='.0f', ax=ax1)\n",
    "sns.heatmap(confusion_matrix(y_test, yhat_test), annot=True, cbar=False, fmt='.0f', ax=ax2)\n",
    "plt.show()"
   ]
  },
  {
   "cell_type": "code",
   "execution_count": null,
   "id": "39a29352-153f-49c4-8270-1fa798bc9054",
   "metadata": {},
   "outputs": [],
   "source": []
  },
  {
   "cell_type": "code",
   "execution_count": null,
   "id": "4a17170c-7415-41e4-815a-bb7a02bf9229",
   "metadata": {},
   "outputs": [],
   "source": []
  },
  {
   "cell_type": "code",
   "execution_count": null,
   "id": "4f36974c-f652-49c1-a6ba-9afb4ed5072c",
   "metadata": {},
   "outputs": [],
   "source": []
  },
  {
   "cell_type": "markdown",
   "id": "8c799820-d4fd-4ea7-a697-51fc05f6d11a",
   "metadata": {
    "jp-MarkdownHeadingCollapsed": true,
    "tags": []
   },
   "source": [
    "#### Prepare"
   ]
  },
  {
   "cell_type": "code",
   "execution_count": 9,
   "id": "04dfc09a-2463-40f1-8bba-88eeb0f904de",
   "metadata": {},
   "outputs": [],
   "source": [
    "# reset features\n",
    "features = X_train.columns.tolist()\n",
    "\n",
    "# add initial weights\n",
    "df_weights = pd.DataFrame({'target': y_train})\n",
    "df_weights['iter_0_weights'] = 1/len(y_train)\n",
    "\n",
    "df_alphas = pd.DataFrame()"
   ]
  },
  {
   "cell_type": "code",
   "execution_count": 10,
   "id": "7e66512e-6eaf-4bd7-9137-491a7ab98a60",
   "metadata": {},
   "outputs": [],
   "source": [
    "# assign original X_sampled, y_sampled\n",
    "X_sampled = X_train\n",
    "y_sampled = y_train"
   ]
  },
  {
   "cell_type": "markdown",
   "id": "022723aa-7cc4-4810-9271-b16e497f93d6",
   "metadata": {
    "jp-MarkdownHeadingCollapsed": true,
    "tags": []
   },
   "source": [
    "#### Iteration 1"
   ]
  },
  {
   "cell_type": "code",
   "execution_count": 11,
   "id": "04271ab2-fe0e-479f-b11f-2a569f6fa88b",
   "metadata": {},
   "outputs": [
    {
     "data": {
      "text/plain": [
       "'chol'"
      ]
     },
     "execution_count": 11,
     "metadata": {},
     "output_type": "execute_result"
    }
   ],
   "source": [
    "lowest_gini_feature = best_feature_from(X_sampled, y_sampled, features, df_weights)\n",
    "lowest_gini_feature"
   ]
  },
  {
   "cell_type": "code",
   "execution_count": 12,
   "id": "db7d34a4-0a29-4163-92ac-b71833cb753d",
   "metadata": {},
   "outputs": [
    {
     "data": {
      "text/plain": [
       "1.2211735176846021"
      ]
     },
     "execution_count": 12,
     "metadata": {},
     "output_type": "execute_result"
    }
   ],
   "source": [
    "# alpha\n",
    "alpha = feature_alpha(X_sampled, y_sampled, lowest_gini_feature, df_weights)\n",
    "alpha"
   ]
  },
  {
   "cell_type": "code",
   "execution_count": 13,
   "id": "b27f176c-775b-4e87-9dcb-c56ef82875a0",
   "metadata": {},
   "outputs": [
    {
     "data": {
      "text/html": [
       "<div>\n",
       "<style scoped>\n",
       "    .dataframe tbody tr th:only-of-type {\n",
       "        vertical-align: middle;\n",
       "    }\n",
       "\n",
       "    .dataframe tbody tr th {\n",
       "        vertical-align: top;\n",
       "    }\n",
       "\n",
       "    .dataframe thead th {\n",
       "        text-align: right;\n",
       "    }\n",
       "</style>\n",
       "<table border=\"1\" class=\"dataframe\">\n",
       "  <thead>\n",
       "    <tr style=\"text-align: right;\">\n",
       "      <th></th>\n",
       "      <th>feature</th>\n",
       "      <th>alpha</th>\n",
       "    </tr>\n",
       "  </thead>\n",
       "  <tbody>\n",
       "    <tr>\n",
       "      <th>0</th>\n",
       "      <td>chol</td>\n",
       "      <td>1.221174</td>\n",
       "    </tr>\n",
       "  </tbody>\n",
       "</table>\n",
       "</div>"
      ],
      "text/plain": [
       "  feature     alpha\n",
       "0    chol  1.221174"
      ]
     },
     "execution_count": 13,
     "metadata": {},
     "output_type": "execute_result"
    }
   ],
   "source": [
    "# update alpha\n",
    "df_alphas = pd.concat([df_alphas, pd.DataFrame({'feature': [lowest_gini_feature], 'alpha':[alpha]})], ignore_index=True)\n",
    "df_alphas"
   ]
  },
  {
   "cell_type": "code",
   "execution_count": 14,
   "id": "aca54596-dfc3-4960-bcdc-b9bc04c2b442",
   "metadata": {},
   "outputs": [
    {
     "data": {
      "text/html": [
       "<div>\n",
       "<style scoped>\n",
       "    .dataframe tbody tr th:only-of-type {\n",
       "        vertical-align: middle;\n",
       "    }\n",
       "\n",
       "    .dataframe tbody tr th {\n",
       "        vertical-align: top;\n",
       "    }\n",
       "\n",
       "    .dataframe thead th {\n",
       "        text-align: right;\n",
       "    }\n",
       "</style>\n",
       "<table border=\"1\" class=\"dataframe\">\n",
       "  <thead>\n",
       "    <tr style=\"text-align: right;\">\n",
       "      <th></th>\n",
       "      <th>target</th>\n",
       "      <th>iter_0_weights</th>\n",
       "      <th>iter_1_weights</th>\n",
       "    </tr>\n",
       "  </thead>\n",
       "  <tbody>\n",
       "    <tr>\n",
       "      <th>972</th>\n",
       "      <td>1</td>\n",
       "      <td>0.01</td>\n",
       "      <td>0.01</td>\n",
       "    </tr>\n",
       "    <tr>\n",
       "      <th>697</th>\n",
       "      <td>0</td>\n",
       "      <td>0.01</td>\n",
       "      <td>0.01</td>\n",
       "    </tr>\n",
       "    <tr>\n",
       "      <th>110</th>\n",
       "      <td>0</td>\n",
       "      <td>0.01</td>\n",
       "      <td>0.01</td>\n",
       "    </tr>\n",
       "    <tr>\n",
       "      <th>158</th>\n",
       "      <td>1</td>\n",
       "      <td>0.01</td>\n",
       "      <td>0.01</td>\n",
       "    </tr>\n",
       "    <tr>\n",
       "      <th>107</th>\n",
       "      <td>0</td>\n",
       "      <td>0.01</td>\n",
       "      <td>0.01</td>\n",
       "    </tr>\n",
       "    <tr>\n",
       "      <th>...</th>\n",
       "      <td>...</td>\n",
       "      <td>...</td>\n",
       "      <td>...</td>\n",
       "    </tr>\n",
       "    <tr>\n",
       "      <th>838</th>\n",
       "      <td>1</td>\n",
       "      <td>0.01</td>\n",
       "      <td>0.01</td>\n",
       "    </tr>\n",
       "    <tr>\n",
       "      <th>129</th>\n",
       "      <td>1</td>\n",
       "      <td>0.01</td>\n",
       "      <td>0.01</td>\n",
       "    </tr>\n",
       "    <tr>\n",
       "      <th>1009</th>\n",
       "      <td>0</td>\n",
       "      <td>0.01</td>\n",
       "      <td>0.01</td>\n",
       "    </tr>\n",
       "    <tr>\n",
       "      <th>798</th>\n",
       "      <td>0</td>\n",
       "      <td>0.01</td>\n",
       "      <td>0.01</td>\n",
       "    </tr>\n",
       "    <tr>\n",
       "      <th>291</th>\n",
       "      <td>0</td>\n",
       "      <td>0.01</td>\n",
       "      <td>0.01</td>\n",
       "    </tr>\n",
       "  </tbody>\n",
       "</table>\n",
       "<p>100 rows × 3 columns</p>\n",
       "</div>"
      ],
      "text/plain": [
       "      target  iter_0_weights  iter_1_weights\n",
       "972        1            0.01            0.01\n",
       "697        0            0.01            0.01\n",
       "110        0            0.01            0.01\n",
       "158        1            0.01            0.01\n",
       "107        0            0.01            0.01\n",
       "...      ...             ...             ...\n",
       "838        1            0.01            0.01\n",
       "129        1            0.01            0.01\n",
       "1009       0            0.01            0.01\n",
       "798        0            0.01            0.01\n",
       "291        0            0.01            0.01\n",
       "\n",
       "[100 rows x 3 columns]"
      ]
     },
     "execution_count": 14,
     "metadata": {},
     "output_type": "execute_result"
    }
   ],
   "source": [
    "iteration_th = 1\n",
    "\n",
    "# create new place holder weight, copy from previous weights\n",
    "df_weights['iter_'+str(iteration_th)+'_weights'] = df_weights[df_weights.columns[-1]]\n",
    "df_weights"
   ]
  },
  {
   "cell_type": "code",
   "execution_count": 15,
   "id": "1be13b18-83de-4131-b0a5-597be2814daf",
   "metadata": {},
   "outputs": [],
   "source": [
    "tree = DecisionTreeClassifier(criterion='gini', random_state=1)\n",
    "# careful at this. use weights from 2 previous column\n",
    "\n",
    "tree.fit(X_sampled[[lowest_gini_feature]], y_sampled, sample_weight = df_weights[df_weights.columns[-2]])\n",
    "y_hat = tree.predict(X_sampled[[lowest_gini_feature]])"
   ]
  },
  {
   "cell_type": "code",
   "execution_count": 16,
   "id": "ebff786f-6039-4073-9d3b-1b18e67c7b27",
   "metadata": {},
   "outputs": [
    {
     "data": {
      "text/plain": [
       "array([1, 0, 0, 1, 0, 0, 1, 0, 0, 0, 1, 1, 0, 1, 1, 0, 1, 0, 1, 0, 0, 1,\n",
       "       1, 0, 0, 1, 1, 0, 1, 1, 1, 0, 0, 1, 1, 1, 0, 0, 1, 1, 0, 0, 1, 0,\n",
       "       0, 1, 1, 0, 1, 1, 0, 0, 0, 0, 0, 1, 0, 1, 0, 0, 0, 0, 0, 1, 0, 0,\n",
       "       1, 0, 1, 1, 0, 0, 0, 1, 0, 0, 0, 1, 0, 0, 0, 0, 0, 0, 1, 0, 1, 1,\n",
       "       0, 1, 1, 0, 1, 0, 1, 1, 1, 0, 0, 0], dtype=int64)"
      ]
     },
     "execution_count": 16,
     "metadata": {},
     "output_type": "execute_result"
    }
   ],
   "source": [
    "y_hat"
   ]
  },
  {
   "cell_type": "code",
   "execution_count": 17,
   "id": "97bbb44a-f4a5-445f-9ddf-6115002238a1",
   "metadata": {
    "scrolled": true,
    "tags": []
   },
   "outputs": [
    {
     "data": {
      "text/html": [
       "<div>\n",
       "<style scoped>\n",
       "    .dataframe tbody tr th:only-of-type {\n",
       "        vertical-align: middle;\n",
       "    }\n",
       "\n",
       "    .dataframe tbody tr th {\n",
       "        vertical-align: top;\n",
       "    }\n",
       "\n",
       "    .dataframe thead th {\n",
       "        text-align: right;\n",
       "    }\n",
       "</style>\n",
       "<table border=\"1\" class=\"dataframe\">\n",
       "  <thead>\n",
       "    <tr style=\"text-align: right;\">\n",
       "      <th></th>\n",
       "      <th>age</th>\n",
       "      <th>sex</th>\n",
       "      <th>cp</th>\n",
       "      <th>trestbps</th>\n",
       "      <th>chol</th>\n",
       "      <th>fbs</th>\n",
       "      <th>restecg</th>\n",
       "      <th>thalach</th>\n",
       "      <th>exang</th>\n",
       "      <th>oldpeak</th>\n",
       "      <th>slope</th>\n",
       "      <th>ca</th>\n",
       "      <th>thal</th>\n",
       "    </tr>\n",
       "  </thead>\n",
       "  <tbody>\n",
       "    <tr>\n",
       "      <th>972</th>\n",
       "      <td>52</td>\n",
       "      <td>1</td>\n",
       "      <td>3</td>\n",
       "      <td>118</td>\n",
       "      <td>186</td>\n",
       "      <td>0</td>\n",
       "      <td>0</td>\n",
       "      <td>190</td>\n",
       "      <td>0</td>\n",
       "      <td>0.0</td>\n",
       "      <td>1</td>\n",
       "      <td>0</td>\n",
       "      <td>1</td>\n",
       "    </tr>\n",
       "    <tr>\n",
       "      <th>697</th>\n",
       "      <td>67</td>\n",
       "      <td>1</td>\n",
       "      <td>2</td>\n",
       "      <td>152</td>\n",
       "      <td>212</td>\n",
       "      <td>0</td>\n",
       "      <td>0</td>\n",
       "      <td>150</td>\n",
       "      <td>0</td>\n",
       "      <td>0.8</td>\n",
       "      <td>1</td>\n",
       "      <td>0</td>\n",
       "      <td>3</td>\n",
       "    </tr>\n",
       "    <tr>\n",
       "      <th>110</th>\n",
       "      <td>44</td>\n",
       "      <td>1</td>\n",
       "      <td>0</td>\n",
       "      <td>110</td>\n",
       "      <td>197</td>\n",
       "      <td>0</td>\n",
       "      <td>0</td>\n",
       "      <td>177</td>\n",
       "      <td>0</td>\n",
       "      <td>0.0</td>\n",
       "      <td>2</td>\n",
       "      <td>1</td>\n",
       "      <td>2</td>\n",
       "    </tr>\n",
       "    <tr>\n",
       "      <th>158</th>\n",
       "      <td>67</td>\n",
       "      <td>0</td>\n",
       "      <td>2</td>\n",
       "      <td>115</td>\n",
       "      <td>564</td>\n",
       "      <td>0</td>\n",
       "      <td>0</td>\n",
       "      <td>160</td>\n",
       "      <td>0</td>\n",
       "      <td>1.6</td>\n",
       "      <td>1</td>\n",
       "      <td>0</td>\n",
       "      <td>3</td>\n",
       "    </tr>\n",
       "    <tr>\n",
       "      <th>107</th>\n",
       "      <td>62</td>\n",
       "      <td>1</td>\n",
       "      <td>1</td>\n",
       "      <td>120</td>\n",
       "      <td>281</td>\n",
       "      <td>0</td>\n",
       "      <td>0</td>\n",
       "      <td>103</td>\n",
       "      <td>0</td>\n",
       "      <td>1.4</td>\n",
       "      <td>1</td>\n",
       "      <td>1</td>\n",
       "      <td>3</td>\n",
       "    </tr>\n",
       "    <tr>\n",
       "      <th>...</th>\n",
       "      <td>...</td>\n",
       "      <td>...</td>\n",
       "      <td>...</td>\n",
       "      <td>...</td>\n",
       "      <td>...</td>\n",
       "      <td>...</td>\n",
       "      <td>...</td>\n",
       "      <td>...</td>\n",
       "      <td>...</td>\n",
       "      <td>...</td>\n",
       "      <td>...</td>\n",
       "      <td>...</td>\n",
       "      <td>...</td>\n",
       "    </tr>\n",
       "    <tr>\n",
       "      <th>838</th>\n",
       "      <td>51</td>\n",
       "      <td>1</td>\n",
       "      <td>3</td>\n",
       "      <td>125</td>\n",
       "      <td>213</td>\n",
       "      <td>0</td>\n",
       "      <td>0</td>\n",
       "      <td>125</td>\n",
       "      <td>1</td>\n",
       "      <td>1.4</td>\n",
       "      <td>2</td>\n",
       "      <td>1</td>\n",
       "      <td>2</td>\n",
       "    </tr>\n",
       "    <tr>\n",
       "      <th>129</th>\n",
       "      <td>57</td>\n",
       "      <td>1</td>\n",
       "      <td>0</td>\n",
       "      <td>140</td>\n",
       "      <td>192</td>\n",
       "      <td>0</td>\n",
       "      <td>1</td>\n",
       "      <td>148</td>\n",
       "      <td>0</td>\n",
       "      <td>0.4</td>\n",
       "      <td>1</td>\n",
       "      <td>0</td>\n",
       "      <td>1</td>\n",
       "    </tr>\n",
       "    <tr>\n",
       "      <th>1009</th>\n",
       "      <td>40</td>\n",
       "      <td>1</td>\n",
       "      <td>0</td>\n",
       "      <td>152</td>\n",
       "      <td>223</td>\n",
       "      <td>0</td>\n",
       "      <td>1</td>\n",
       "      <td>181</td>\n",
       "      <td>0</td>\n",
       "      <td>0.0</td>\n",
       "      <td>2</td>\n",
       "      <td>0</td>\n",
       "      <td>3</td>\n",
       "    </tr>\n",
       "    <tr>\n",
       "      <th>798</th>\n",
       "      <td>59</td>\n",
       "      <td>1</td>\n",
       "      <td>3</td>\n",
       "      <td>170</td>\n",
       "      <td>288</td>\n",
       "      <td>0</td>\n",
       "      <td>0</td>\n",
       "      <td>159</td>\n",
       "      <td>0</td>\n",
       "      <td>0.2</td>\n",
       "      <td>1</td>\n",
       "      <td>0</td>\n",
       "      <td>3</td>\n",
       "    </tr>\n",
       "    <tr>\n",
       "      <th>291</th>\n",
       "      <td>58</td>\n",
       "      <td>1</td>\n",
       "      <td>0</td>\n",
       "      <td>128</td>\n",
       "      <td>259</td>\n",
       "      <td>0</td>\n",
       "      <td>0</td>\n",
       "      <td>130</td>\n",
       "      <td>1</td>\n",
       "      <td>3.0</td>\n",
       "      <td>1</td>\n",
       "      <td>2</td>\n",
       "      <td>3</td>\n",
       "    </tr>\n",
       "  </tbody>\n",
       "</table>\n",
       "<p>100 rows × 13 columns</p>\n",
       "</div>"
      ],
      "text/plain": [
       "      age  sex  cp  trestbps  chol  fbs  restecg  thalach  exang  oldpeak  \\\n",
       "972    52    1   3       118   186    0        0      190      0      0.0   \n",
       "697    67    1   2       152   212    0        0      150      0      0.8   \n",
       "110    44    1   0       110   197    0        0      177      0      0.0   \n",
       "158    67    0   2       115   564    0        0      160      0      1.6   \n",
       "107    62    1   1       120   281    0        0      103      0      1.4   \n",
       "...   ...  ...  ..       ...   ...  ...      ...      ...    ...      ...   \n",
       "838    51    1   3       125   213    0        0      125      1      1.4   \n",
       "129    57    1   0       140   192    0        1      148      0      0.4   \n",
       "1009   40    1   0       152   223    0        1      181      0      0.0   \n",
       "798    59    1   3       170   288    0        0      159      0      0.2   \n",
       "291    58    1   0       128   259    0        0      130      1      3.0   \n",
       "\n",
       "      slope  ca  thal  \n",
       "972       1   0     1  \n",
       "697       1   0     3  \n",
       "110       2   1     2  \n",
       "158       1   0     3  \n",
       "107       1   1     3  \n",
       "...     ...  ..   ...  \n",
       "838       2   1     2  \n",
       "129       1   0     1  \n",
       "1009      2   0     3  \n",
       "798       1   0     3  \n",
       "291       1   2     3  \n",
       "\n",
       "[100 rows x 13 columns]"
      ]
     },
     "execution_count": 17,
     "metadata": {},
     "output_type": "execute_result"
    }
   ],
   "source": [
    "X_sampled"
   ]
  },
  {
   "cell_type": "code",
   "execution_count": 18,
   "id": "a1202c1f-0a60-402f-a2e1-73a30c50bd51",
   "metadata": {},
   "outputs": [],
   "source": [
    "\n",
    "\n",
    "\n",
    "# wrongly classified\n",
    "df_weights[df_weights.columns[-1]][y_sampled!=y_hat] = df_weights[df_weights.columns[-2]][y_sampled!=y_hat] * np.exp(alpha)\n",
    "\n",
    "# correctly classified\n",
    "df_weights[df_weights.columns[-1]][y_sampled==y_hat] = df_weights[df_weights.columns[-2]][y_sampled==y_hat] * np.exp(-alpha)\n",
    "\n",
    "# normalize\n",
    "df_weights[df_weights.columns[-1]] = (df_weights[df_weights.columns[-1]]/df_weights[df_weights.columns[-1]].sum())"
   ]
  },
  {
   "cell_type": "code",
   "execution_count": 19,
   "id": "5543a595-4f15-4c49-af5a-dd40925844c6",
   "metadata": {},
   "outputs": [
    {
     "data": {
      "text/plain": [
       "0.005435    92\n",
       "0.062500     8\n",
       "Name: iter_1_weights, dtype: int64"
      ]
     },
     "execution_count": 19,
     "metadata": {},
     "output_type": "execute_result"
    }
   ],
   "source": [
    "df_weights.iter_1_weights.value_counts()"
   ]
  },
  {
   "cell_type": "code",
   "execution_count": 20,
   "id": "cf4860ed-0ff9-4c2e-bf6f-4042c423ebee",
   "metadata": {},
   "outputs": [
    {
     "data": {
      "text/html": [
       "<div>\n",
       "<style scoped>\n",
       "    .dataframe tbody tr th:only-of-type {\n",
       "        vertical-align: middle;\n",
       "    }\n",
       "\n",
       "    .dataframe tbody tr th {\n",
       "        vertical-align: top;\n",
       "    }\n",
       "\n",
       "    .dataframe thead th {\n",
       "        text-align: right;\n",
       "    }\n",
       "</style>\n",
       "<table border=\"1\" class=\"dataframe\">\n",
       "  <thead>\n",
       "    <tr style=\"text-align: right;\">\n",
       "      <th></th>\n",
       "      <th>target</th>\n",
       "      <th>iter_0_weights</th>\n",
       "      <th>iter_1_weights</th>\n",
       "    </tr>\n",
       "  </thead>\n",
       "  <tbody>\n",
       "    <tr>\n",
       "      <th>529</th>\n",
       "      <td>1</td>\n",
       "      <td>0.01</td>\n",
       "      <td>0.0625</td>\n",
       "    </tr>\n",
       "    <tr>\n",
       "      <th>955</th>\n",
       "      <td>1</td>\n",
       "      <td>0.01</td>\n",
       "      <td>0.0625</td>\n",
       "    </tr>\n",
       "    <tr>\n",
       "      <th>761</th>\n",
       "      <td>1</td>\n",
       "      <td>0.01</td>\n",
       "      <td>0.0625</td>\n",
       "    </tr>\n",
       "    <tr>\n",
       "      <th>528</th>\n",
       "      <td>1</td>\n",
       "      <td>0.01</td>\n",
       "      <td>0.0625</td>\n",
       "    </tr>\n",
       "    <tr>\n",
       "      <th>949</th>\n",
       "      <td>1</td>\n",
       "      <td>0.01</td>\n",
       "      <td>0.0625</td>\n",
       "    </tr>\n",
       "    <tr>\n",
       "      <th>956</th>\n",
       "      <td>1</td>\n",
       "      <td>0.01</td>\n",
       "      <td>0.0625</td>\n",
       "    </tr>\n",
       "    <tr>\n",
       "      <th>320</th>\n",
       "      <td>1</td>\n",
       "      <td>0.01</td>\n",
       "      <td>0.0625</td>\n",
       "    </tr>\n",
       "    <tr>\n",
       "      <th>240</th>\n",
       "      <td>1</td>\n",
       "      <td>0.01</td>\n",
       "      <td>0.0625</td>\n",
       "    </tr>\n",
       "  </tbody>\n",
       "</table>\n",
       "</div>"
      ],
      "text/plain": [
       "     target  iter_0_weights  iter_1_weights\n",
       "529       1            0.01          0.0625\n",
       "955       1            0.01          0.0625\n",
       "761       1            0.01          0.0625\n",
       "528       1            0.01          0.0625\n",
       "949       1            0.01          0.0625\n",
       "956       1            0.01          0.0625\n",
       "320       1            0.01          0.0625\n",
       "240       1            0.01          0.0625"
      ]
     },
     "execution_count": 20,
     "metadata": {},
     "output_type": "execute_result"
    }
   ],
   "source": [
    "# where are the wrong values\n",
    "df_weights[df_weights.iter_1_weights>0.06]"
   ]
  },
  {
   "cell_type": "code",
   "execution_count": 21,
   "id": "1c449125-7553-4126-b769-86205bffca9c",
   "metadata": {},
   "outputs": [
    {
     "data": {
      "text/html": [
       "<div>\n",
       "<style scoped>\n",
       "    .dataframe tbody tr th:only-of-type {\n",
       "        vertical-align: middle;\n",
       "    }\n",
       "\n",
       "    .dataframe tbody tr th {\n",
       "        vertical-align: top;\n",
       "    }\n",
       "\n",
       "    .dataframe thead th {\n",
       "        text-align: right;\n",
       "    }\n",
       "</style>\n",
       "<table border=\"1\" class=\"dataframe\">\n",
       "  <thead>\n",
       "    <tr style=\"text-align: right;\">\n",
       "      <th></th>\n",
       "      <th>target</th>\n",
       "      <th>iter_0_weights</th>\n",
       "      <th>iter_1_weights</th>\n",
       "    </tr>\n",
       "  </thead>\n",
       "  <tbody>\n",
       "    <tr>\n",
       "      <th>972</th>\n",
       "      <td>1</td>\n",
       "      <td>0.01</td>\n",
       "      <td>0.005435</td>\n",
       "    </tr>\n",
       "    <tr>\n",
       "      <th>697</th>\n",
       "      <td>0</td>\n",
       "      <td>0.01</td>\n",
       "      <td>0.005435</td>\n",
       "    </tr>\n",
       "    <tr>\n",
       "      <th>110</th>\n",
       "      <td>0</td>\n",
       "      <td>0.01</td>\n",
       "      <td>0.005435</td>\n",
       "    </tr>\n",
       "    <tr>\n",
       "      <th>158</th>\n",
       "      <td>1</td>\n",
       "      <td>0.01</td>\n",
       "      <td>0.005435</td>\n",
       "    </tr>\n",
       "    <tr>\n",
       "      <th>107</th>\n",
       "      <td>0</td>\n",
       "      <td>0.01</td>\n",
       "      <td>0.005435</td>\n",
       "    </tr>\n",
       "    <tr>\n",
       "      <th>...</th>\n",
       "      <td>...</td>\n",
       "      <td>...</td>\n",
       "      <td>...</td>\n",
       "    </tr>\n",
       "    <tr>\n",
       "      <th>838</th>\n",
       "      <td>1</td>\n",
       "      <td>0.01</td>\n",
       "      <td>0.005435</td>\n",
       "    </tr>\n",
       "    <tr>\n",
       "      <th>129</th>\n",
       "      <td>1</td>\n",
       "      <td>0.01</td>\n",
       "      <td>0.005435</td>\n",
       "    </tr>\n",
       "    <tr>\n",
       "      <th>1009</th>\n",
       "      <td>0</td>\n",
       "      <td>0.01</td>\n",
       "      <td>0.005435</td>\n",
       "    </tr>\n",
       "    <tr>\n",
       "      <th>798</th>\n",
       "      <td>0</td>\n",
       "      <td>0.01</td>\n",
       "      <td>0.005435</td>\n",
       "    </tr>\n",
       "    <tr>\n",
       "      <th>291</th>\n",
       "      <td>0</td>\n",
       "      <td>0.01</td>\n",
       "      <td>0.005435</td>\n",
       "    </tr>\n",
       "  </tbody>\n",
       "</table>\n",
       "<p>100 rows × 3 columns</p>\n",
       "</div>"
      ],
      "text/plain": [
       "      target  iter_0_weights  iter_1_weights\n",
       "972        1            0.01        0.005435\n",
       "697        0            0.01        0.005435\n",
       "110        0            0.01        0.005435\n",
       "158        1            0.01        0.005435\n",
       "107        0            0.01        0.005435\n",
       "...      ...             ...             ...\n",
       "838        1            0.01        0.005435\n",
       "129        1            0.01        0.005435\n",
       "1009       0            0.01        0.005435\n",
       "798        0            0.01        0.005435\n",
       "291        0            0.01        0.005435\n",
       "\n",
       "[100 rows x 3 columns]"
      ]
     },
     "execution_count": 21,
     "metadata": {},
     "output_type": "execute_result"
    }
   ],
   "source": [
    "df_weights"
   ]
  },
  {
   "cell_type": "code",
   "execution_count": 22,
   "id": "c456de44-a700-4e76-8742-c745518cf1b2",
   "metadata": {},
   "outputs": [
    {
     "data": {
      "text/html": [
       "<div>\n",
       "<style scoped>\n",
       "    .dataframe tbody tr th:only-of-type {\n",
       "        vertical-align: middle;\n",
       "    }\n",
       "\n",
       "    .dataframe tbody tr th {\n",
       "        vertical-align: top;\n",
       "    }\n",
       "\n",
       "    .dataframe thead th {\n",
       "        text-align: right;\n",
       "    }\n",
       "</style>\n",
       "<table border=\"1\" class=\"dataframe\">\n",
       "  <thead>\n",
       "    <tr style=\"text-align: right;\">\n",
       "      <th></th>\n",
       "      <th>age</th>\n",
       "      <th>sex</th>\n",
       "      <th>cp</th>\n",
       "      <th>trestbps</th>\n",
       "      <th>chol</th>\n",
       "      <th>fbs</th>\n",
       "      <th>restecg</th>\n",
       "      <th>thalach</th>\n",
       "      <th>exang</th>\n",
       "      <th>oldpeak</th>\n",
       "      <th>slope</th>\n",
       "      <th>ca</th>\n",
       "      <th>thal</th>\n",
       "      <th>target</th>\n",
       "    </tr>\n",
       "  </thead>\n",
       "  <tbody>\n",
       "    <tr>\n",
       "      <th>972</th>\n",
       "      <td>52</td>\n",
       "      <td>1</td>\n",
       "      <td>3</td>\n",
       "      <td>118</td>\n",
       "      <td>186</td>\n",
       "      <td>0</td>\n",
       "      <td>0</td>\n",
       "      <td>190</td>\n",
       "      <td>0</td>\n",
       "      <td>0.0</td>\n",
       "      <td>1</td>\n",
       "      <td>0</td>\n",
       "      <td>1</td>\n",
       "      <td>1</td>\n",
       "    </tr>\n",
       "    <tr>\n",
       "      <th>697</th>\n",
       "      <td>67</td>\n",
       "      <td>1</td>\n",
       "      <td>2</td>\n",
       "      <td>152</td>\n",
       "      <td>212</td>\n",
       "      <td>0</td>\n",
       "      <td>0</td>\n",
       "      <td>150</td>\n",
       "      <td>0</td>\n",
       "      <td>0.8</td>\n",
       "      <td>1</td>\n",
       "      <td>0</td>\n",
       "      <td>3</td>\n",
       "      <td>0</td>\n",
       "    </tr>\n",
       "    <tr>\n",
       "      <th>110</th>\n",
       "      <td>44</td>\n",
       "      <td>1</td>\n",
       "      <td>0</td>\n",
       "      <td>110</td>\n",
       "      <td>197</td>\n",
       "      <td>0</td>\n",
       "      <td>0</td>\n",
       "      <td>177</td>\n",
       "      <td>0</td>\n",
       "      <td>0.0</td>\n",
       "      <td>2</td>\n",
       "      <td>1</td>\n",
       "      <td>2</td>\n",
       "      <td>0</td>\n",
       "    </tr>\n",
       "    <tr>\n",
       "      <th>158</th>\n",
       "      <td>67</td>\n",
       "      <td>0</td>\n",
       "      <td>2</td>\n",
       "      <td>115</td>\n",
       "      <td>564</td>\n",
       "      <td>0</td>\n",
       "      <td>0</td>\n",
       "      <td>160</td>\n",
       "      <td>0</td>\n",
       "      <td>1.6</td>\n",
       "      <td>1</td>\n",
       "      <td>0</td>\n",
       "      <td>3</td>\n",
       "      <td>1</td>\n",
       "    </tr>\n",
       "    <tr>\n",
       "      <th>107</th>\n",
       "      <td>62</td>\n",
       "      <td>1</td>\n",
       "      <td>1</td>\n",
       "      <td>120</td>\n",
       "      <td>281</td>\n",
       "      <td>0</td>\n",
       "      <td>0</td>\n",
       "      <td>103</td>\n",
       "      <td>0</td>\n",
       "      <td>1.4</td>\n",
       "      <td>1</td>\n",
       "      <td>1</td>\n",
       "      <td>3</td>\n",
       "      <td>0</td>\n",
       "    </tr>\n",
       "    <tr>\n",
       "      <th>...</th>\n",
       "      <td>...</td>\n",
       "      <td>...</td>\n",
       "      <td>...</td>\n",
       "      <td>...</td>\n",
       "      <td>...</td>\n",
       "      <td>...</td>\n",
       "      <td>...</td>\n",
       "      <td>...</td>\n",
       "      <td>...</td>\n",
       "      <td>...</td>\n",
       "      <td>...</td>\n",
       "      <td>...</td>\n",
       "      <td>...</td>\n",
       "      <td>...</td>\n",
       "    </tr>\n",
       "    <tr>\n",
       "      <th>838</th>\n",
       "      <td>51</td>\n",
       "      <td>1</td>\n",
       "      <td>3</td>\n",
       "      <td>125</td>\n",
       "      <td>213</td>\n",
       "      <td>0</td>\n",
       "      <td>0</td>\n",
       "      <td>125</td>\n",
       "      <td>1</td>\n",
       "      <td>1.4</td>\n",
       "      <td>2</td>\n",
       "      <td>1</td>\n",
       "      <td>2</td>\n",
       "      <td>1</td>\n",
       "    </tr>\n",
       "    <tr>\n",
       "      <th>129</th>\n",
       "      <td>57</td>\n",
       "      <td>1</td>\n",
       "      <td>0</td>\n",
       "      <td>140</td>\n",
       "      <td>192</td>\n",
       "      <td>0</td>\n",
       "      <td>1</td>\n",
       "      <td>148</td>\n",
       "      <td>0</td>\n",
       "      <td>0.4</td>\n",
       "      <td>1</td>\n",
       "      <td>0</td>\n",
       "      <td>1</td>\n",
       "      <td>1</td>\n",
       "    </tr>\n",
       "    <tr>\n",
       "      <th>1009</th>\n",
       "      <td>40</td>\n",
       "      <td>1</td>\n",
       "      <td>0</td>\n",
       "      <td>152</td>\n",
       "      <td>223</td>\n",
       "      <td>0</td>\n",
       "      <td>1</td>\n",
       "      <td>181</td>\n",
       "      <td>0</td>\n",
       "      <td>0.0</td>\n",
       "      <td>2</td>\n",
       "      <td>0</td>\n",
       "      <td>3</td>\n",
       "      <td>0</td>\n",
       "    </tr>\n",
       "    <tr>\n",
       "      <th>798</th>\n",
       "      <td>59</td>\n",
       "      <td>1</td>\n",
       "      <td>3</td>\n",
       "      <td>170</td>\n",
       "      <td>288</td>\n",
       "      <td>0</td>\n",
       "      <td>0</td>\n",
       "      <td>159</td>\n",
       "      <td>0</td>\n",
       "      <td>0.2</td>\n",
       "      <td>1</td>\n",
       "      <td>0</td>\n",
       "      <td>3</td>\n",
       "      <td>0</td>\n",
       "    </tr>\n",
       "    <tr>\n",
       "      <th>291</th>\n",
       "      <td>58</td>\n",
       "      <td>1</td>\n",
       "      <td>0</td>\n",
       "      <td>128</td>\n",
       "      <td>259</td>\n",
       "      <td>0</td>\n",
       "      <td>0</td>\n",
       "      <td>130</td>\n",
       "      <td>1</td>\n",
       "      <td>3.0</td>\n",
       "      <td>1</td>\n",
       "      <td>2</td>\n",
       "      <td>3</td>\n",
       "      <td>0</td>\n",
       "    </tr>\n",
       "  </tbody>\n",
       "</table>\n",
       "<p>100 rows × 14 columns</p>\n",
       "</div>"
      ],
      "text/plain": [
       "      age  sex  cp  trestbps  chol  fbs  restecg  thalach  exang  oldpeak  \\\n",
       "972    52    1   3       118   186    0        0      190      0      0.0   \n",
       "697    67    1   2       152   212    0        0      150      0      0.8   \n",
       "110    44    1   0       110   197    0        0      177      0      0.0   \n",
       "158    67    0   2       115   564    0        0      160      0      1.6   \n",
       "107    62    1   1       120   281    0        0      103      0      1.4   \n",
       "...   ...  ...  ..       ...   ...  ...      ...      ...    ...      ...   \n",
       "838    51    1   3       125   213    0        0      125      1      1.4   \n",
       "129    57    1   0       140   192    0        1      148      0      0.4   \n",
       "1009   40    1   0       152   223    0        1      181      0      0.0   \n",
       "798    59    1   3       170   288    0        0      159      0      0.2   \n",
       "291    58    1   0       128   259    0        0      130      1      3.0   \n",
       "\n",
       "      slope  ca  thal  target  \n",
       "972       1   0     1       1  \n",
       "697       1   0     3       0  \n",
       "110       2   1     2       0  \n",
       "158       1   0     3       1  \n",
       "107       1   1     3       0  \n",
       "...     ...  ..   ...     ...  \n",
       "838       2   1     2       1  \n",
       "129       1   0     1       1  \n",
       "1009      2   0     3       0  \n",
       "798       1   0     3       0  \n",
       "291       1   2     3       0  \n",
       "\n",
       "[100 rows x 14 columns]"
      ]
     },
     "execution_count": 22,
     "metadata": {},
     "output_type": "execute_result"
    }
   ],
   "source": [
    "### resample\n",
    "\n",
    "# concat x,y\n",
    "Xy = pd.concat([X_sampled, y_sampled], axis=1)\n",
    "Xy"
   ]
  },
  {
   "cell_type": "code",
   "execution_count": 23,
   "id": "c1be55cf-7fb5-4d03-834a-0b253ba33bda",
   "metadata": {},
   "outputs": [
    {
     "data": {
      "text/html": [
       "<div>\n",
       "<style scoped>\n",
       "    .dataframe tbody tr th:only-of-type {\n",
       "        vertical-align: middle;\n",
       "    }\n",
       "\n",
       "    .dataframe tbody tr th {\n",
       "        vertical-align: top;\n",
       "    }\n",
       "\n",
       "    .dataframe thead th {\n",
       "        text-align: right;\n",
       "    }\n",
       "</style>\n",
       "<table border=\"1\" class=\"dataframe\">\n",
       "  <thead>\n",
       "    <tr style=\"text-align: right;\">\n",
       "      <th></th>\n",
       "      <th>age</th>\n",
       "      <th>sex</th>\n",
       "      <th>cp</th>\n",
       "      <th>trestbps</th>\n",
       "      <th>chol</th>\n",
       "      <th>fbs</th>\n",
       "      <th>restecg</th>\n",
       "      <th>thalach</th>\n",
       "      <th>exang</th>\n",
       "      <th>oldpeak</th>\n",
       "      <th>slope</th>\n",
       "      <th>ca</th>\n",
       "      <th>thal</th>\n",
       "      <th>target</th>\n",
       "    </tr>\n",
       "  </thead>\n",
       "  <tbody>\n",
       "    <tr>\n",
       "      <th>596</th>\n",
       "      <td>59</td>\n",
       "      <td>1</td>\n",
       "      <td>1</td>\n",
       "      <td>140</td>\n",
       "      <td>221</td>\n",
       "      <td>0</td>\n",
       "      <td>1</td>\n",
       "      <td>164</td>\n",
       "      <td>1</td>\n",
       "      <td>0.0</td>\n",
       "      <td>2</td>\n",
       "      <td>0</td>\n",
       "      <td>2</td>\n",
       "      <td>1</td>\n",
       "    </tr>\n",
       "    <tr>\n",
       "      <th>233</th>\n",
       "      <td>41</td>\n",
       "      <td>0</td>\n",
       "      <td>1</td>\n",
       "      <td>126</td>\n",
       "      <td>306</td>\n",
       "      <td>0</td>\n",
       "      <td>1</td>\n",
       "      <td>163</td>\n",
       "      <td>0</td>\n",
       "      <td>0.0</td>\n",
       "      <td>2</td>\n",
       "      <td>0</td>\n",
       "      <td>2</td>\n",
       "      <td>1</td>\n",
       "    </tr>\n",
       "    <tr>\n",
       "      <th>761</th>\n",
       "      <td>49</td>\n",
       "      <td>0</td>\n",
       "      <td>0</td>\n",
       "      <td>130</td>\n",
       "      <td>269</td>\n",
       "      <td>0</td>\n",
       "      <td>1</td>\n",
       "      <td>163</td>\n",
       "      <td>0</td>\n",
       "      <td>0.0</td>\n",
       "      <td>2</td>\n",
       "      <td>0</td>\n",
       "      <td>2</td>\n",
       "      <td>1</td>\n",
       "    </tr>\n",
       "    <tr>\n",
       "      <th>528</th>\n",
       "      <td>59</td>\n",
       "      <td>1</td>\n",
       "      <td>3</td>\n",
       "      <td>178</td>\n",
       "      <td>270</td>\n",
       "      <td>0</td>\n",
       "      <td>0</td>\n",
       "      <td>145</td>\n",
       "      <td>0</td>\n",
       "      <td>4.2</td>\n",
       "      <td>0</td>\n",
       "      <td>0</td>\n",
       "      <td>3</td>\n",
       "      <td>1</td>\n",
       "    </tr>\n",
       "    <tr>\n",
       "      <th>712</th>\n",
       "      <td>45</td>\n",
       "      <td>0</td>\n",
       "      <td>1</td>\n",
       "      <td>112</td>\n",
       "      <td>160</td>\n",
       "      <td>0</td>\n",
       "      <td>1</td>\n",
       "      <td>138</td>\n",
       "      <td>0</td>\n",
       "      <td>0.0</td>\n",
       "      <td>1</td>\n",
       "      <td>0</td>\n",
       "      <td>2</td>\n",
       "      <td>1</td>\n",
       "    </tr>\n",
       "    <tr>\n",
       "      <th>...</th>\n",
       "      <td>...</td>\n",
       "      <td>...</td>\n",
       "      <td>...</td>\n",
       "      <td>...</td>\n",
       "      <td>...</td>\n",
       "      <td>...</td>\n",
       "      <td>...</td>\n",
       "      <td>...</td>\n",
       "      <td>...</td>\n",
       "      <td>...</td>\n",
       "      <td>...</td>\n",
       "      <td>...</td>\n",
       "      <td>...</td>\n",
       "      <td>...</td>\n",
       "    </tr>\n",
       "    <tr>\n",
       "      <th>529</th>\n",
       "      <td>69</td>\n",
       "      <td>1</td>\n",
       "      <td>3</td>\n",
       "      <td>160</td>\n",
       "      <td>234</td>\n",
       "      <td>1</td>\n",
       "      <td>0</td>\n",
       "      <td>131</td>\n",
       "      <td>0</td>\n",
       "      <td>0.1</td>\n",
       "      <td>1</td>\n",
       "      <td>1</td>\n",
       "      <td>2</td>\n",
       "      <td>1</td>\n",
       "    </tr>\n",
       "    <tr>\n",
       "      <th>554</th>\n",
       "      <td>58</td>\n",
       "      <td>1</td>\n",
       "      <td>0</td>\n",
       "      <td>100</td>\n",
       "      <td>234</td>\n",
       "      <td>0</td>\n",
       "      <td>1</td>\n",
       "      <td>156</td>\n",
       "      <td>0</td>\n",
       "      <td>0.1</td>\n",
       "      <td>2</td>\n",
       "      <td>1</td>\n",
       "      <td>3</td>\n",
       "      <td>0</td>\n",
       "    </tr>\n",
       "    <tr>\n",
       "      <th>25</th>\n",
       "      <td>61</td>\n",
       "      <td>0</td>\n",
       "      <td>0</td>\n",
       "      <td>145</td>\n",
       "      <td>307</td>\n",
       "      <td>0</td>\n",
       "      <td>0</td>\n",
       "      <td>146</td>\n",
       "      <td>1</td>\n",
       "      <td>1.0</td>\n",
       "      <td>1</td>\n",
       "      <td>0</td>\n",
       "      <td>3</td>\n",
       "      <td>0</td>\n",
       "    </tr>\n",
       "    <tr>\n",
       "      <th>761</th>\n",
       "      <td>49</td>\n",
       "      <td>0</td>\n",
       "      <td>0</td>\n",
       "      <td>130</td>\n",
       "      <td>269</td>\n",
       "      <td>0</td>\n",
       "      <td>1</td>\n",
       "      <td>163</td>\n",
       "      <td>0</td>\n",
       "      <td>0.0</td>\n",
       "      <td>2</td>\n",
       "      <td>0</td>\n",
       "      <td>2</td>\n",
       "      <td>1</td>\n",
       "    </tr>\n",
       "    <tr>\n",
       "      <th>529</th>\n",
       "      <td>69</td>\n",
       "      <td>1</td>\n",
       "      <td>3</td>\n",
       "      <td>160</td>\n",
       "      <td>234</td>\n",
       "      <td>1</td>\n",
       "      <td>0</td>\n",
       "      <td>131</td>\n",
       "      <td>0</td>\n",
       "      <td>0.1</td>\n",
       "      <td>1</td>\n",
       "      <td>1</td>\n",
       "      <td>2</td>\n",
       "      <td>1</td>\n",
       "    </tr>\n",
       "  </tbody>\n",
       "</table>\n",
       "<p>100 rows × 14 columns</p>\n",
       "</div>"
      ],
      "text/plain": [
       "     age  sex  cp  trestbps  chol  fbs  restecg  thalach  exang  oldpeak  \\\n",
       "596   59    1   1       140   221    0        1      164      1      0.0   \n",
       "233   41    0   1       126   306    0        1      163      0      0.0   \n",
       "761   49    0   0       130   269    0        1      163      0      0.0   \n",
       "528   59    1   3       178   270    0        0      145      0      4.2   \n",
       "712   45    0   1       112   160    0        1      138      0      0.0   \n",
       "..   ...  ...  ..       ...   ...  ...      ...      ...    ...      ...   \n",
       "529   69    1   3       160   234    1        0      131      0      0.1   \n",
       "554   58    1   0       100   234    0        1      156      0      0.1   \n",
       "25    61    0   0       145   307    0        0      146      1      1.0   \n",
       "761   49    0   0       130   269    0        1      163      0      0.0   \n",
       "529   69    1   3       160   234    1        0      131      0      0.1   \n",
       "\n",
       "     slope  ca  thal  target  \n",
       "596      2   0     2       1  \n",
       "233      2   0     2       1  \n",
       "761      2   0     2       1  \n",
       "528      0   0     3       1  \n",
       "712      1   0     2       1  \n",
       "..     ...  ..   ...     ...  \n",
       "529      1   1     2       1  \n",
       "554      2   1     3       0  \n",
       "25       1   0     3       0  \n",
       "761      2   0     2       1  \n",
       "529      1   1     2       1  \n",
       "\n",
       "[100 rows x 14 columns]"
      ]
     },
     "execution_count": 23,
     "metadata": {},
     "output_type": "execute_result"
    }
   ],
   "source": [
    "# sampled from Xy\n",
    "\n",
    "Xy_sampled = Xy.sample(n=len(Xy), weights=df_weights[df_weights.columns[-1]], replace=True)\n",
    "X_sampled = Xy_sampled.drop(columns='target')\n",
    "y_sampled = Xy_sampled.target\n",
    "\n",
    "Xy_sampled"
   ]
  },
  {
   "cell_type": "code",
   "execution_count": 24,
   "id": "3c03f79b-fcc9-4c72-8405-cf67eba7c556",
   "metadata": {},
   "outputs": [],
   "source": []
  },
  {
   "cell_type": "markdown",
   "id": "abc774bb-ef01-4d3e-a5d5-6dc11f638508",
   "metadata": {
    "jp-MarkdownHeadingCollapsed": true,
    "tags": []
   },
   "source": [
    "#### iteration 2"
   ]
  },
  {
   "cell_type": "code",
   "execution_count": 25,
   "id": "5b58586f-c131-4758-a001-ef63c0418916",
   "metadata": {},
   "outputs": [
    {
     "data": {
      "text/plain": [
       "'chol'"
      ]
     },
     "execution_count": 25,
     "metadata": {},
     "output_type": "execute_result"
    }
   ],
   "source": [
    "lowest_gini_feature = best_feature_from(X_sampled, y_sampled, features, df_weights)\n",
    "lowest_gini_feature"
   ]
  },
  {
   "cell_type": "code",
   "execution_count": 26,
   "id": "aabbcede-fe35-4e71-8864-4c11c46ef8bd",
   "metadata": {},
   "outputs": [],
   "source": [
    "def feature_alpha(X_sampled, y_sampled, feature, df_weights):\n",
    "    tree = DecisionTreeClassifier(criterion='gini', random_state=1)\n",
    "    tree.fit(X_sampled[[feature]], y_sampled, sample_weight = df_weights[df_weights.columns[-1]])\n",
    "    y_hat = tree.predict(X_sampled[[feature]])\n",
    "    \n",
    "    y_wrong_index = y_sampled[y_sampled!=y_hat].index\n",
    "    total_error = df_weights[df_weights.columns[-1]][y_wrong_index].sum()\n",
    "    alpha = 0.5 * np.log((1-total_error)/total_error)\n",
    "    return alpha"
   ]
  },
  {
   "cell_type": "code",
   "execution_count": 27,
   "id": "a39c4cb2-590d-4639-a640-e9f6d0a32d66",
   "metadata": {},
   "outputs": [
    {
     "data": {
      "text/plain": [
       "2.049942371298858"
      ]
     },
     "execution_count": 27,
     "metadata": {},
     "output_type": "execute_result"
    }
   ],
   "source": [
    "# alpha\n",
    "alpha = feature_alpha(X_sampled, y_sampled, lowest_gini_feature, df_weights)\n",
    "alpha"
   ]
  },
  {
   "cell_type": "code",
   "execution_count": 28,
   "id": "113b2587-df52-443c-8640-ac447e42f487",
   "metadata": {},
   "outputs": [
    {
     "data": {
      "text/html": [
       "<div>\n",
       "<style scoped>\n",
       "    .dataframe tbody tr th:only-of-type {\n",
       "        vertical-align: middle;\n",
       "    }\n",
       "\n",
       "    .dataframe tbody tr th {\n",
       "        vertical-align: top;\n",
       "    }\n",
       "\n",
       "    .dataframe thead th {\n",
       "        text-align: right;\n",
       "    }\n",
       "</style>\n",
       "<table border=\"1\" class=\"dataframe\">\n",
       "  <thead>\n",
       "    <tr style=\"text-align: right;\">\n",
       "      <th></th>\n",
       "      <th>feature</th>\n",
       "      <th>alpha</th>\n",
       "    </tr>\n",
       "  </thead>\n",
       "  <tbody>\n",
       "    <tr>\n",
       "      <th>0</th>\n",
       "      <td>chol</td>\n",
       "      <td>1.221174</td>\n",
       "    </tr>\n",
       "    <tr>\n",
       "      <th>1</th>\n",
       "      <td>chol</td>\n",
       "      <td>2.049942</td>\n",
       "    </tr>\n",
       "  </tbody>\n",
       "</table>\n",
       "</div>"
      ],
      "text/plain": [
       "  feature     alpha\n",
       "0    chol  1.221174\n",
       "1    chol  2.049942"
      ]
     },
     "execution_count": 28,
     "metadata": {},
     "output_type": "execute_result"
    }
   ],
   "source": [
    "# update alpha\n",
    "df_alphas = pd.concat([df_alphas, pd.DataFrame({'feature': [lowest_gini_feature], 'alpha':[alpha]})], ignore_index=True)\n",
    "df_alphas"
   ]
  },
  {
   "cell_type": "code",
   "execution_count": 29,
   "id": "64dcd733-8da7-48c2-a2f5-a319e0a4884f",
   "metadata": {},
   "outputs": [
    {
     "data": {
      "text/html": [
       "<div>\n",
       "<style scoped>\n",
       "    .dataframe tbody tr th:only-of-type {\n",
       "        vertical-align: middle;\n",
       "    }\n",
       "\n",
       "    .dataframe tbody tr th {\n",
       "        vertical-align: top;\n",
       "    }\n",
       "\n",
       "    .dataframe thead th {\n",
       "        text-align: right;\n",
       "    }\n",
       "</style>\n",
       "<table border=\"1\" class=\"dataframe\">\n",
       "  <thead>\n",
       "    <tr style=\"text-align: right;\">\n",
       "      <th></th>\n",
       "      <th>target</th>\n",
       "      <th>iter_0_weights</th>\n",
       "      <th>iter_1_weights</th>\n",
       "      <th>iter_2_weights</th>\n",
       "    </tr>\n",
       "  </thead>\n",
       "  <tbody>\n",
       "    <tr>\n",
       "      <th>972</th>\n",
       "      <td>1</td>\n",
       "      <td>0.01</td>\n",
       "      <td>0.005435</td>\n",
       "      <td>0.005435</td>\n",
       "    </tr>\n",
       "    <tr>\n",
       "      <th>697</th>\n",
       "      <td>0</td>\n",
       "      <td>0.01</td>\n",
       "      <td>0.005435</td>\n",
       "      <td>0.005435</td>\n",
       "    </tr>\n",
       "    <tr>\n",
       "      <th>110</th>\n",
       "      <td>0</td>\n",
       "      <td>0.01</td>\n",
       "      <td>0.005435</td>\n",
       "      <td>0.005435</td>\n",
       "    </tr>\n",
       "    <tr>\n",
       "      <th>158</th>\n",
       "      <td>1</td>\n",
       "      <td>0.01</td>\n",
       "      <td>0.005435</td>\n",
       "      <td>0.005435</td>\n",
       "    </tr>\n",
       "    <tr>\n",
       "      <th>107</th>\n",
       "      <td>0</td>\n",
       "      <td>0.01</td>\n",
       "      <td>0.005435</td>\n",
       "      <td>0.005435</td>\n",
       "    </tr>\n",
       "    <tr>\n",
       "      <th>...</th>\n",
       "      <td>...</td>\n",
       "      <td>...</td>\n",
       "      <td>...</td>\n",
       "      <td>...</td>\n",
       "    </tr>\n",
       "    <tr>\n",
       "      <th>838</th>\n",
       "      <td>1</td>\n",
       "      <td>0.01</td>\n",
       "      <td>0.005435</td>\n",
       "      <td>0.005435</td>\n",
       "    </tr>\n",
       "    <tr>\n",
       "      <th>129</th>\n",
       "      <td>1</td>\n",
       "      <td>0.01</td>\n",
       "      <td>0.005435</td>\n",
       "      <td>0.005435</td>\n",
       "    </tr>\n",
       "    <tr>\n",
       "      <th>1009</th>\n",
       "      <td>0</td>\n",
       "      <td>0.01</td>\n",
       "      <td>0.005435</td>\n",
       "      <td>0.005435</td>\n",
       "    </tr>\n",
       "    <tr>\n",
       "      <th>798</th>\n",
       "      <td>0</td>\n",
       "      <td>0.01</td>\n",
       "      <td>0.005435</td>\n",
       "      <td>0.005435</td>\n",
       "    </tr>\n",
       "    <tr>\n",
       "      <th>291</th>\n",
       "      <td>0</td>\n",
       "      <td>0.01</td>\n",
       "      <td>0.005435</td>\n",
       "      <td>0.005435</td>\n",
       "    </tr>\n",
       "  </tbody>\n",
       "</table>\n",
       "<p>100 rows × 4 columns</p>\n",
       "</div>"
      ],
      "text/plain": [
       "      target  iter_0_weights  iter_1_weights  iter_2_weights\n",
       "972        1            0.01        0.005435        0.005435\n",
       "697        0            0.01        0.005435        0.005435\n",
       "110        0            0.01        0.005435        0.005435\n",
       "158        1            0.01        0.005435        0.005435\n",
       "107        0            0.01        0.005435        0.005435\n",
       "...      ...             ...             ...             ...\n",
       "838        1            0.01        0.005435        0.005435\n",
       "129        1            0.01        0.005435        0.005435\n",
       "1009       0            0.01        0.005435        0.005435\n",
       "798        0            0.01        0.005435        0.005435\n",
       "291        0            0.01        0.005435        0.005435\n",
       "\n",
       "[100 rows x 4 columns]"
      ]
     },
     "execution_count": 29,
     "metadata": {},
     "output_type": "execute_result"
    }
   ],
   "source": [
    "iteration_th = 2\n",
    "\n",
    "# create new place holder weight, copy from previous weights\n",
    "df_weights['iter_'+str(iteration_th)+'_weights'] = df_weights[df_weights.columns[-1]]\n",
    "df_weights"
   ]
  },
  {
   "cell_type": "code",
   "execution_count": null,
   "id": "709c3fa0-f1a7-400c-af56-220c5273988d",
   "metadata": {},
   "outputs": [],
   "source": []
  },
  {
   "cell_type": "code",
   "execution_count": 31,
   "id": "f8a45c25-d204-4517-8e86-c93f01ab7126",
   "metadata": {},
   "outputs": [],
   "source": [
    "tree = DecisionTreeClassifier(criterion='gini', random_state=1)\n",
    "# careful at this. use weights from 2 previous column\n",
    "\n",
    "tree.fit(X_sampled[[lowest_gini_feature]], y_sampled, sample_weight = df_weights[df_weights.columns[-2]])\n",
    "y_hat = tree.predict(X_sampled[[lowest_gini_feature]])"
   ]
  },
  {
   "cell_type": "code",
   "execution_count": 33,
   "id": "9b327961-641b-43d0-b7c0-686c6972400f",
   "metadata": {},
   "outputs": [],
   "source": [
    "# wrongly classified\n",
    "wrong_classified_index = y_sampled[y_sampled!=y_hat].index\n",
    "df_weights[df_weights.columns[-1]][wrong_classified_index] = df_weights[df_weights.columns[-2]][wrong_classified_index] * np.exp(alpha)\n",
    "\n",
    "# correctly classified\n",
    "correct_classified_index = y_sampled[y_sampled==y_hat].index\n",
    "\n",
    "df_weights[df_weights.columns[-1]][correct_classified_index] = df_weights[df_weights.columns[-2]][correct_classified_index] * np.exp(-alpha)\n",
    "\n",
    "# normalize\n",
    "df_weights[df_weights.columns[-1]] = (df_weights[df_weights.columns[-1]]/df_weights[df_weights.columns[-1]].sum())"
   ]
  },
  {
   "cell_type": "code",
   "execution_count": 36,
   "id": "cae51c97-9440-4d51-b552-8605379a3fb9",
   "metadata": {},
   "outputs": [
    {
     "data": {
      "text/plain": [
       "0.011745    53\n",
       "0.001512    37\n",
       "0.017389     8\n",
       "0.091229     2\n",
       "Name: iter_2_weights, dtype: int64"
      ]
     },
     "execution_count": 36,
     "metadata": {},
     "output_type": "execute_result"
    }
   ],
   "source": [
    "df_weights.iter_2_weights.value_counts()"
   ]
  },
  {
   "cell_type": "code",
   "execution_count": 37,
   "id": "683b208f-0a19-438e-b158-fe4b8958beda",
   "metadata": {},
   "outputs": [
    {
     "data": {
      "text/plain": [
       "554    0.091229\n",
       "798    0.091229\n",
       "Name: iter_2_weights, dtype: float64"
      ]
     },
     "execution_count": 37,
     "metadata": {},
     "output_type": "execute_result"
    }
   ],
   "source": [
    "df_weights.iter_2_weights[df_weights.iter_2_weights>0.09]"
   ]
  },
  {
   "cell_type": "code",
   "execution_count": null,
   "id": "076569d9-d9bb-4908-b35a-153da8e3d9b6",
   "metadata": {},
   "outputs": [],
   "source": []
  },
  {
   "cell_type": "code",
   "execution_count": 38,
   "id": "0d07ce7a-2946-47f4-bf87-19bdfb486b49",
   "metadata": {},
   "outputs": [
    {
     "data": {
      "text/html": [
       "<div>\n",
       "<style scoped>\n",
       "    .dataframe tbody tr th:only-of-type {\n",
       "        vertical-align: middle;\n",
       "    }\n",
       "\n",
       "    .dataframe tbody tr th {\n",
       "        vertical-align: top;\n",
       "    }\n",
       "\n",
       "    .dataframe thead th {\n",
       "        text-align: right;\n",
       "    }\n",
       "</style>\n",
       "<table border=\"1\" class=\"dataframe\">\n",
       "  <thead>\n",
       "    <tr style=\"text-align: right;\">\n",
       "      <th></th>\n",
       "      <th>age</th>\n",
       "      <th>sex</th>\n",
       "      <th>cp</th>\n",
       "      <th>trestbps</th>\n",
       "      <th>chol</th>\n",
       "      <th>fbs</th>\n",
       "      <th>restecg</th>\n",
       "      <th>thalach</th>\n",
       "      <th>exang</th>\n",
       "      <th>oldpeak</th>\n",
       "      <th>slope</th>\n",
       "      <th>ca</th>\n",
       "      <th>thal</th>\n",
       "      <th>target</th>\n",
       "    </tr>\n",
       "  </thead>\n",
       "  <tbody>\n",
       "    <tr>\n",
       "      <th>897</th>\n",
       "      <td>52</td>\n",
       "      <td>1</td>\n",
       "      <td>1</td>\n",
       "      <td>134</td>\n",
       "      <td>201</td>\n",
       "      <td>0</td>\n",
       "      <td>1</td>\n",
       "      <td>158</td>\n",
       "      <td>0</td>\n",
       "      <td>0.8</td>\n",
       "      <td>2</td>\n",
       "      <td>1</td>\n",
       "      <td>2</td>\n",
       "      <td>1</td>\n",
       "    </tr>\n",
       "    <tr>\n",
       "      <th>969</th>\n",
       "      <td>52</td>\n",
       "      <td>1</td>\n",
       "      <td>1</td>\n",
       "      <td>120</td>\n",
       "      <td>325</td>\n",
       "      <td>0</td>\n",
       "      <td>1</td>\n",
       "      <td>172</td>\n",
       "      <td>0</td>\n",
       "      <td>0.2</td>\n",
       "      <td>2</td>\n",
       "      <td>0</td>\n",
       "      <td>2</td>\n",
       "      <td>1</td>\n",
       "    </tr>\n",
       "    <tr>\n",
       "      <th>291</th>\n",
       "      <td>58</td>\n",
       "      <td>1</td>\n",
       "      <td>0</td>\n",
       "      <td>128</td>\n",
       "      <td>259</td>\n",
       "      <td>0</td>\n",
       "      <td>0</td>\n",
       "      <td>130</td>\n",
       "      <td>1</td>\n",
       "      <td>3.0</td>\n",
       "      <td>1</td>\n",
       "      <td>2</td>\n",
       "      <td>3</td>\n",
       "      <td>0</td>\n",
       "    </tr>\n",
       "    <tr>\n",
       "      <th>956</th>\n",
       "      <td>49</td>\n",
       "      <td>0</td>\n",
       "      <td>0</td>\n",
       "      <td>130</td>\n",
       "      <td>269</td>\n",
       "      <td>0</td>\n",
       "      <td>1</td>\n",
       "      <td>163</td>\n",
       "      <td>0</td>\n",
       "      <td>0.0</td>\n",
       "      <td>2</td>\n",
       "      <td>0</td>\n",
       "      <td>2</td>\n",
       "      <td>1</td>\n",
       "    </tr>\n",
       "    <tr>\n",
       "      <th>145</th>\n",
       "      <td>40</td>\n",
       "      <td>1</td>\n",
       "      <td>0</td>\n",
       "      <td>110</td>\n",
       "      <td>167</td>\n",
       "      <td>0</td>\n",
       "      <td>0</td>\n",
       "      <td>114</td>\n",
       "      <td>1</td>\n",
       "      <td>2.0</td>\n",
       "      <td>1</td>\n",
       "      <td>0</td>\n",
       "      <td>3</td>\n",
       "      <td>0</td>\n",
       "    </tr>\n",
       "    <tr>\n",
       "      <th>...</th>\n",
       "      <td>...</td>\n",
       "      <td>...</td>\n",
       "      <td>...</td>\n",
       "      <td>...</td>\n",
       "      <td>...</td>\n",
       "      <td>...</td>\n",
       "      <td>...</td>\n",
       "      <td>...</td>\n",
       "      <td>...</td>\n",
       "      <td>...</td>\n",
       "      <td>...</td>\n",
       "      <td>...</td>\n",
       "      <td>...</td>\n",
       "      <td>...</td>\n",
       "    </tr>\n",
       "    <tr>\n",
       "      <th>781</th>\n",
       "      <td>58</td>\n",
       "      <td>1</td>\n",
       "      <td>0</td>\n",
       "      <td>146</td>\n",
       "      <td>218</td>\n",
       "      <td>0</td>\n",
       "      <td>1</td>\n",
       "      <td>105</td>\n",
       "      <td>0</td>\n",
       "      <td>2.0</td>\n",
       "      <td>1</td>\n",
       "      <td>1</td>\n",
       "      <td>3</td>\n",
       "      <td>0</td>\n",
       "    </tr>\n",
       "    <tr>\n",
       "      <th>798</th>\n",
       "      <td>59</td>\n",
       "      <td>1</td>\n",
       "      <td>3</td>\n",
       "      <td>170</td>\n",
       "      <td>288</td>\n",
       "      <td>0</td>\n",
       "      <td>0</td>\n",
       "      <td>159</td>\n",
       "      <td>0</td>\n",
       "      <td>0.2</td>\n",
       "      <td>1</td>\n",
       "      <td>0</td>\n",
       "      <td>3</td>\n",
       "      <td>0</td>\n",
       "    </tr>\n",
       "    <tr>\n",
       "      <th>949</th>\n",
       "      <td>57</td>\n",
       "      <td>1</td>\n",
       "      <td>0</td>\n",
       "      <td>132</td>\n",
       "      <td>207</td>\n",
       "      <td>0</td>\n",
       "      <td>1</td>\n",
       "      <td>168</td>\n",
       "      <td>1</td>\n",
       "      <td>0.0</td>\n",
       "      <td>2</td>\n",
       "      <td>0</td>\n",
       "      <td>3</td>\n",
       "      <td>1</td>\n",
       "    </tr>\n",
       "    <tr>\n",
       "      <th>554</th>\n",
       "      <td>58</td>\n",
       "      <td>1</td>\n",
       "      <td>0</td>\n",
       "      <td>100</td>\n",
       "      <td>234</td>\n",
       "      <td>0</td>\n",
       "      <td>1</td>\n",
       "      <td>156</td>\n",
       "      <td>0</td>\n",
       "      <td>0.1</td>\n",
       "      <td>2</td>\n",
       "      <td>1</td>\n",
       "      <td>3</td>\n",
       "      <td>0</td>\n",
       "    </tr>\n",
       "    <tr>\n",
       "      <th>240</th>\n",
       "      <td>54</td>\n",
       "      <td>0</td>\n",
       "      <td>1</td>\n",
       "      <td>132</td>\n",
       "      <td>288</td>\n",
       "      <td>1</td>\n",
       "      <td>0</td>\n",
       "      <td>159</td>\n",
       "      <td>1</td>\n",
       "      <td>0.0</td>\n",
       "      <td>2</td>\n",
       "      <td>1</td>\n",
       "      <td>2</td>\n",
       "      <td>1</td>\n",
       "    </tr>\n",
       "  </tbody>\n",
       "</table>\n",
       "<p>100 rows × 14 columns</p>\n",
       "</div>"
      ],
      "text/plain": [
       "     age  sex  cp  trestbps  chol  fbs  restecg  thalach  exang  oldpeak  \\\n",
       "897   52    1   1       134   201    0        1      158      0      0.8   \n",
       "969   52    1   1       120   325    0        1      172      0      0.2   \n",
       "291   58    1   0       128   259    0        0      130      1      3.0   \n",
       "956   49    0   0       130   269    0        1      163      0      0.0   \n",
       "145   40    1   0       110   167    0        0      114      1      2.0   \n",
       "..   ...  ...  ..       ...   ...  ...      ...      ...    ...      ...   \n",
       "781   58    1   0       146   218    0        1      105      0      2.0   \n",
       "798   59    1   3       170   288    0        0      159      0      0.2   \n",
       "949   57    1   0       132   207    0        1      168      1      0.0   \n",
       "554   58    1   0       100   234    0        1      156      0      0.1   \n",
       "240   54    0   1       132   288    1        0      159      1      0.0   \n",
       "\n",
       "     slope  ca  thal  target  \n",
       "897      2   1     2       1  \n",
       "969      2   0     2       1  \n",
       "291      1   2     3       0  \n",
       "956      2   0     2       1  \n",
       "145      1   0     3       0  \n",
       "..     ...  ..   ...     ...  \n",
       "781      1   1     3       0  \n",
       "798      1   0     3       0  \n",
       "949      2   0     3       1  \n",
       "554      2   1     3       0  \n",
       "240      2   1     2       1  \n",
       "\n",
       "[100 rows x 14 columns]"
      ]
     },
     "execution_count": 38,
     "metadata": {},
     "output_type": "execute_result"
    }
   ],
   "source": [
    "# sampled from Xy\n",
    "\n",
    "Xy_sampled = Xy.sample(n=len(Xy), weights=df_weights[df_weights.columns[-1]], replace=True)\n",
    "\n",
    "Xy_sampled"
   ]
  },
  {
   "cell_type": "code",
   "execution_count": 39,
   "id": "3c40fecf-14ee-4405-a65f-53a7e43b033e",
   "metadata": {},
   "outputs": [],
   "source": [
    "X_sampled = Xy_sampled.drop(columns='target')\n",
    "y_sampled = Xy_sampled.target"
   ]
  },
  {
   "cell_type": "code",
   "execution_count": null,
   "id": "9fa80d4e-a254-4d76-8a22-0e7f2967252e",
   "metadata": {},
   "outputs": [],
   "source": []
  },
  {
   "cell_type": "markdown",
   "id": "891f25a5-cd69-44c8-bf7a-00f0c2bd8f59",
   "metadata": {
    "jp-MarkdownHeadingCollapsed": true,
    "tags": []
   },
   "source": [
    "#### iteration 3"
   ]
  },
  {
   "cell_type": "code",
   "execution_count": 40,
   "id": "ef750382-46aa-447a-92db-02b94df81b5c",
   "metadata": {},
   "outputs": [
    {
     "data": {
      "text/plain": [
       "'thalach'"
      ]
     },
     "execution_count": 40,
     "metadata": {},
     "output_type": "execute_result"
    }
   ],
   "source": [
    "lowest_gini_feature = best_feature_from(X_sampled, y_sampled, features, df_weights)\n",
    "lowest_gini_feature"
   ]
  },
  {
   "cell_type": "code",
   "execution_count": 41,
   "id": "6a279a44-2318-4305-93fa-15864481117f",
   "metadata": {},
   "outputs": [],
   "source": [
    "def feature_alpha(X_sampled, y_sampled, feature, df_weights):\n",
    "    tree = DecisionTreeClassifier(criterion='gini', random_state=1)\n",
    "    tree.fit(X_sampled[[feature]], y_sampled, sample_weight = df_weights[df_weights.columns[-1]])\n",
    "    y_hat = tree.predict(X_sampled[[feature]])\n",
    "    \n",
    "    y_wrong_index = y_sampled[y_sampled!=y_hat].index\n",
    "    total_error = df_weights[df_weights.columns[-1]][y_wrong_index].sum()\n",
    "    alpha = 0.5 * np.log((1-total_error)/total_error)\n",
    "    return alpha"
   ]
  },
  {
   "cell_type": "code",
   "execution_count": 42,
   "id": "424647bf-ed51-41b9-9ae3-2c0007d31b99",
   "metadata": {},
   "outputs": [
    {
     "data": {
      "text/plain": [
       "1.4157261687785112"
      ]
     },
     "execution_count": 42,
     "metadata": {},
     "output_type": "execute_result"
    }
   ],
   "source": [
    "# alpha\n",
    "alpha = feature_alpha(X_sampled, y_sampled, lowest_gini_feature, df_weights)\n",
    "alpha"
   ]
  },
  {
   "cell_type": "code",
   "execution_count": 43,
   "id": "ad139515-3124-4fa8-a2a9-3ee8ce327ad8",
   "metadata": {},
   "outputs": [
    {
     "data": {
      "text/html": [
       "<div>\n",
       "<style scoped>\n",
       "    .dataframe tbody tr th:only-of-type {\n",
       "        vertical-align: middle;\n",
       "    }\n",
       "\n",
       "    .dataframe tbody tr th {\n",
       "        vertical-align: top;\n",
       "    }\n",
       "\n",
       "    .dataframe thead th {\n",
       "        text-align: right;\n",
       "    }\n",
       "</style>\n",
       "<table border=\"1\" class=\"dataframe\">\n",
       "  <thead>\n",
       "    <tr style=\"text-align: right;\">\n",
       "      <th></th>\n",
       "      <th>feature</th>\n",
       "      <th>alpha</th>\n",
       "    </tr>\n",
       "  </thead>\n",
       "  <tbody>\n",
       "    <tr>\n",
       "      <th>0</th>\n",
       "      <td>chol</td>\n",
       "      <td>1.221174</td>\n",
       "    </tr>\n",
       "    <tr>\n",
       "      <th>1</th>\n",
       "      <td>chol</td>\n",
       "      <td>2.049942</td>\n",
       "    </tr>\n",
       "    <tr>\n",
       "      <th>2</th>\n",
       "      <td>thalach</td>\n",
       "      <td>1.415726</td>\n",
       "    </tr>\n",
       "  </tbody>\n",
       "</table>\n",
       "</div>"
      ],
      "text/plain": [
       "   feature     alpha\n",
       "0     chol  1.221174\n",
       "1     chol  2.049942\n",
       "2  thalach  1.415726"
      ]
     },
     "execution_count": 43,
     "metadata": {},
     "output_type": "execute_result"
    }
   ],
   "source": [
    "# update alpha\n",
    "df_alphas = pd.concat([df_alphas, pd.DataFrame({'feature': [lowest_gini_feature], 'alpha':[alpha]})], ignore_index=True)\n",
    "df_alphas"
   ]
  },
  {
   "cell_type": "code",
   "execution_count": 44,
   "id": "c8695a35-e898-4224-9163-7acb63472c22",
   "metadata": {},
   "outputs": [
    {
     "data": {
      "text/html": [
       "<div>\n",
       "<style scoped>\n",
       "    .dataframe tbody tr th:only-of-type {\n",
       "        vertical-align: middle;\n",
       "    }\n",
       "\n",
       "    .dataframe tbody tr th {\n",
       "        vertical-align: top;\n",
       "    }\n",
       "\n",
       "    .dataframe thead th {\n",
       "        text-align: right;\n",
       "    }\n",
       "</style>\n",
       "<table border=\"1\" class=\"dataframe\">\n",
       "  <thead>\n",
       "    <tr style=\"text-align: right;\">\n",
       "      <th></th>\n",
       "      <th>target</th>\n",
       "      <th>iter_0_weights</th>\n",
       "      <th>iter_1_weights</th>\n",
       "      <th>iter_2_weights</th>\n",
       "      <th>iter_3_weights</th>\n",
       "    </tr>\n",
       "  </thead>\n",
       "  <tbody>\n",
       "    <tr>\n",
       "      <th>972</th>\n",
       "      <td>1</td>\n",
       "      <td>0.01</td>\n",
       "      <td>0.005435</td>\n",
       "      <td>0.001512</td>\n",
       "      <td>0.001512</td>\n",
       "    </tr>\n",
       "    <tr>\n",
       "      <th>697</th>\n",
       "      <td>0</td>\n",
       "      <td>0.01</td>\n",
       "      <td>0.005435</td>\n",
       "      <td>0.001512</td>\n",
       "      <td>0.001512</td>\n",
       "    </tr>\n",
       "    <tr>\n",
       "      <th>110</th>\n",
       "      <td>0</td>\n",
       "      <td>0.01</td>\n",
       "      <td>0.005435</td>\n",
       "      <td>0.011745</td>\n",
       "      <td>0.011745</td>\n",
       "    </tr>\n",
       "    <tr>\n",
       "      <th>158</th>\n",
       "      <td>1</td>\n",
       "      <td>0.01</td>\n",
       "      <td>0.005435</td>\n",
       "      <td>0.011745</td>\n",
       "      <td>0.011745</td>\n",
       "    </tr>\n",
       "    <tr>\n",
       "      <th>107</th>\n",
       "      <td>0</td>\n",
       "      <td>0.01</td>\n",
       "      <td>0.005435</td>\n",
       "      <td>0.001512</td>\n",
       "      <td>0.001512</td>\n",
       "    </tr>\n",
       "    <tr>\n",
       "      <th>...</th>\n",
       "      <td>...</td>\n",
       "      <td>...</td>\n",
       "      <td>...</td>\n",
       "      <td>...</td>\n",
       "      <td>...</td>\n",
       "    </tr>\n",
       "    <tr>\n",
       "      <th>838</th>\n",
       "      <td>1</td>\n",
       "      <td>0.01</td>\n",
       "      <td>0.005435</td>\n",
       "      <td>0.011745</td>\n",
       "      <td>0.011745</td>\n",
       "    </tr>\n",
       "    <tr>\n",
       "      <th>129</th>\n",
       "      <td>1</td>\n",
       "      <td>0.01</td>\n",
       "      <td>0.005435</td>\n",
       "      <td>0.001512</td>\n",
       "      <td>0.001512</td>\n",
       "    </tr>\n",
       "    <tr>\n",
       "      <th>1009</th>\n",
       "      <td>0</td>\n",
       "      <td>0.01</td>\n",
       "      <td>0.005435</td>\n",
       "      <td>0.011745</td>\n",
       "      <td>0.011745</td>\n",
       "    </tr>\n",
       "    <tr>\n",
       "      <th>798</th>\n",
       "      <td>0</td>\n",
       "      <td>0.01</td>\n",
       "      <td>0.005435</td>\n",
       "      <td>0.091229</td>\n",
       "      <td>0.091229</td>\n",
       "    </tr>\n",
       "    <tr>\n",
       "      <th>291</th>\n",
       "      <td>0</td>\n",
       "      <td>0.01</td>\n",
       "      <td>0.005435</td>\n",
       "      <td>0.011745</td>\n",
       "      <td>0.011745</td>\n",
       "    </tr>\n",
       "  </tbody>\n",
       "</table>\n",
       "<p>100 rows × 5 columns</p>\n",
       "</div>"
      ],
      "text/plain": [
       "      target  iter_0_weights  iter_1_weights  iter_2_weights  iter_3_weights\n",
       "972        1            0.01        0.005435        0.001512        0.001512\n",
       "697        0            0.01        0.005435        0.001512        0.001512\n",
       "110        0            0.01        0.005435        0.011745        0.011745\n",
       "158        1            0.01        0.005435        0.011745        0.011745\n",
       "107        0            0.01        0.005435        0.001512        0.001512\n",
       "...      ...             ...             ...             ...             ...\n",
       "838        1            0.01        0.005435        0.011745        0.011745\n",
       "129        1            0.01        0.005435        0.001512        0.001512\n",
       "1009       0            0.01        0.005435        0.011745        0.011745\n",
       "798        0            0.01        0.005435        0.091229        0.091229\n",
       "291        0            0.01        0.005435        0.011745        0.011745\n",
       "\n",
       "[100 rows x 5 columns]"
      ]
     },
     "execution_count": 44,
     "metadata": {},
     "output_type": "execute_result"
    }
   ],
   "source": [
    "iteration_th = 3\n",
    "\n",
    "# create new place holder weight, copy from previous weights\n",
    "df_weights['iter_'+str(iteration_th)+'_weights'] = df_weights[df_weights.columns[-1]]\n",
    "df_weights"
   ]
  },
  {
   "cell_type": "code",
   "execution_count": null,
   "id": "15f99a4e-d515-4d72-91ed-ea7c4cbe9e14",
   "metadata": {},
   "outputs": [],
   "source": []
  },
  {
   "cell_type": "code",
   "execution_count": 45,
   "id": "6dc86d35-1b24-4a08-aeb1-a54c3e413287",
   "metadata": {},
   "outputs": [],
   "source": [
    "tree = DecisionTreeClassifier(criterion='gini', random_state=1)\n",
    "# careful at this. use weights from 2 previous column\n",
    "\n",
    "tree.fit(X_sampled[[lowest_gini_feature]], y_sampled, sample_weight = df_weights[df_weights.columns[-2]])\n",
    "y_hat = tree.predict(X_sampled[[lowest_gini_feature]])"
   ]
  },
  {
   "cell_type": "code",
   "execution_count": 46,
   "id": "a26b14b6-ce38-4448-b89b-af2b63cade55",
   "metadata": {},
   "outputs": [],
   "source": [
    "# wrongly classified\n",
    "wrong_classified_index = y_sampled[y_sampled!=y_hat].index\n",
    "df_weights[df_weights.columns[-1]][wrong_classified_index] = df_weights[df_weights.columns[-2]][wrong_classified_index] * np.exp(alpha)\n",
    "\n",
    "# correctly classified\n",
    "correct_classified_index = y_sampled[y_sampled==y_hat].index\n",
    "\n",
    "df_weights[df_weights.columns[-1]][correct_classified_index] = df_weights[df_weights.columns[-2]][correct_classified_index] * np.exp(-alpha)\n",
    "\n",
    "# normalize\n",
    "df_weights[df_weights.columns[-1]] = (df_weights[df_weights.columns[-1]]/df_weights[df_weights.columns[-1]].sum())"
   ]
  },
  {
   "cell_type": "code",
   "execution_count": 47,
   "id": "23d728d8-ff9c-4fe4-8f37-28e576567ce9",
   "metadata": {},
   "outputs": [
    {
     "data": {
      "text/plain": [
       "0.002233    32\n",
       "0.004210    31\n",
       "0.017342    19\n",
       "0.006233     6\n",
       "0.000542     3\n",
       "0.071438     3\n",
       "0.009197     2\n",
       "0.032698     2\n",
       "0.025675     1\n",
       "0.105767     1\n",
       "Name: iter_3_weights, dtype: int64"
      ]
     },
     "execution_count": 47,
     "metadata": {},
     "output_type": "execute_result"
    }
   ],
   "source": [
    "df_weights.iter_3_weights.value_counts()"
   ]
  },
  {
   "cell_type": "code",
   "execution_count": 50,
   "id": "d3ff6f2c-c4a6-4b95-8916-e6403154b790",
   "metadata": {},
   "outputs": [
    {
     "data": {
      "text/plain": [
       "879    0.071438\n",
       "554    0.032698\n",
       "731    0.071438\n",
       "240    0.105767\n",
       "798    0.032698\n",
       "291    0.071438\n",
       "Name: iter_3_weights, dtype: float64"
      ]
     },
     "execution_count": 50,
     "metadata": {},
     "output_type": "execute_result"
    }
   ],
   "source": [
    "df_weights.iter_3_weights[df_weights.iter_3_weights>0.03]"
   ]
  },
  {
   "cell_type": "code",
   "execution_count": null,
   "id": "4a2e10ec-387b-4fb4-bb62-c5d314e4e614",
   "metadata": {},
   "outputs": [],
   "source": []
  },
  {
   "cell_type": "code",
   "execution_count": 51,
   "id": "f663b97c-6794-47b4-8f92-a0609d0bea0a",
   "metadata": {},
   "outputs": [
    {
     "data": {
      "text/html": [
       "<div>\n",
       "<style scoped>\n",
       "    .dataframe tbody tr th:only-of-type {\n",
       "        vertical-align: middle;\n",
       "    }\n",
       "\n",
       "    .dataframe tbody tr th {\n",
       "        vertical-align: top;\n",
       "    }\n",
       "\n",
       "    .dataframe thead th {\n",
       "        text-align: right;\n",
       "    }\n",
       "</style>\n",
       "<table border=\"1\" class=\"dataframe\">\n",
       "  <thead>\n",
       "    <tr style=\"text-align: right;\">\n",
       "      <th></th>\n",
       "      <th>age</th>\n",
       "      <th>sex</th>\n",
       "      <th>cp</th>\n",
       "      <th>trestbps</th>\n",
       "      <th>chol</th>\n",
       "      <th>fbs</th>\n",
       "      <th>restecg</th>\n",
       "      <th>thalach</th>\n",
       "      <th>exang</th>\n",
       "      <th>oldpeak</th>\n",
       "      <th>slope</th>\n",
       "      <th>ca</th>\n",
       "      <th>thal</th>\n",
       "      <th>target</th>\n",
       "    </tr>\n",
       "  </thead>\n",
       "  <tbody>\n",
       "    <tr>\n",
       "      <th>307</th>\n",
       "      <td>44</td>\n",
       "      <td>1</td>\n",
       "      <td>1</td>\n",
       "      <td>120</td>\n",
       "      <td>220</td>\n",
       "      <td>0</td>\n",
       "      <td>1</td>\n",
       "      <td>170</td>\n",
       "      <td>0</td>\n",
       "      <td>0.0</td>\n",
       "      <td>2</td>\n",
       "      <td>0</td>\n",
       "      <td>2</td>\n",
       "      <td>1</td>\n",
       "    </tr>\n",
       "    <tr>\n",
       "      <th>404</th>\n",
       "      <td>61</td>\n",
       "      <td>1</td>\n",
       "      <td>0</td>\n",
       "      <td>140</td>\n",
       "      <td>207</td>\n",
       "      <td>0</td>\n",
       "      <td>0</td>\n",
       "      <td>138</td>\n",
       "      <td>1</td>\n",
       "      <td>1.9</td>\n",
       "      <td>2</td>\n",
       "      <td>1</td>\n",
       "      <td>3</td>\n",
       "      <td>0</td>\n",
       "    </tr>\n",
       "    <tr>\n",
       "      <th>795</th>\n",
       "      <td>62</td>\n",
       "      <td>1</td>\n",
       "      <td>1</td>\n",
       "      <td>128</td>\n",
       "      <td>208</td>\n",
       "      <td>1</td>\n",
       "      <td>0</td>\n",
       "      <td>140</td>\n",
       "      <td>0</td>\n",
       "      <td>0.0</td>\n",
       "      <td>2</td>\n",
       "      <td>0</td>\n",
       "      <td>2</td>\n",
       "      <td>1</td>\n",
       "    </tr>\n",
       "    <tr>\n",
       "      <th>291</th>\n",
       "      <td>58</td>\n",
       "      <td>1</td>\n",
       "      <td>0</td>\n",
       "      <td>128</td>\n",
       "      <td>259</td>\n",
       "      <td>0</td>\n",
       "      <td>0</td>\n",
       "      <td>130</td>\n",
       "      <td>1</td>\n",
       "      <td>3.0</td>\n",
       "      <td>1</td>\n",
       "      <td>2</td>\n",
       "      <td>3</td>\n",
       "      <td>0</td>\n",
       "    </tr>\n",
       "    <tr>\n",
       "      <th>795</th>\n",
       "      <td>62</td>\n",
       "      <td>1</td>\n",
       "      <td>1</td>\n",
       "      <td>128</td>\n",
       "      <td>208</td>\n",
       "      <td>1</td>\n",
       "      <td>0</td>\n",
       "      <td>140</td>\n",
       "      <td>0</td>\n",
       "      <td>0.0</td>\n",
       "      <td>2</td>\n",
       "      <td>0</td>\n",
       "      <td>2</td>\n",
       "      <td>1</td>\n",
       "    </tr>\n",
       "    <tr>\n",
       "      <th>...</th>\n",
       "      <td>...</td>\n",
       "      <td>...</td>\n",
       "      <td>...</td>\n",
       "      <td>...</td>\n",
       "      <td>...</td>\n",
       "      <td>...</td>\n",
       "      <td>...</td>\n",
       "      <td>...</td>\n",
       "      <td>...</td>\n",
       "      <td>...</td>\n",
       "      <td>...</td>\n",
       "      <td>...</td>\n",
       "      <td>...</td>\n",
       "      <td>...</td>\n",
       "    </tr>\n",
       "    <tr>\n",
       "      <th>709</th>\n",
       "      <td>45</td>\n",
       "      <td>1</td>\n",
       "      <td>3</td>\n",
       "      <td>110</td>\n",
       "      <td>264</td>\n",
       "      <td>0</td>\n",
       "      <td>1</td>\n",
       "      <td>132</td>\n",
       "      <td>0</td>\n",
       "      <td>1.2</td>\n",
       "      <td>1</td>\n",
       "      <td>0</td>\n",
       "      <td>3</td>\n",
       "      <td>0</td>\n",
       "    </tr>\n",
       "    <tr>\n",
       "      <th>277</th>\n",
       "      <td>44</td>\n",
       "      <td>1</td>\n",
       "      <td>1</td>\n",
       "      <td>130</td>\n",
       "      <td>219</td>\n",
       "      <td>0</td>\n",
       "      <td>0</td>\n",
       "      <td>188</td>\n",
       "      <td>0</td>\n",
       "      <td>0.0</td>\n",
       "      <td>2</td>\n",
       "      <td>0</td>\n",
       "      <td>2</td>\n",
       "      <td>1</td>\n",
       "    </tr>\n",
       "    <tr>\n",
       "      <th>667</th>\n",
       "      <td>57</td>\n",
       "      <td>1</td>\n",
       "      <td>1</td>\n",
       "      <td>124</td>\n",
       "      <td>261</td>\n",
       "      <td>0</td>\n",
       "      <td>1</td>\n",
       "      <td>141</td>\n",
       "      <td>0</td>\n",
       "      <td>0.3</td>\n",
       "      <td>2</td>\n",
       "      <td>0</td>\n",
       "      <td>3</td>\n",
       "      <td>0</td>\n",
       "    </tr>\n",
       "    <tr>\n",
       "      <th>240</th>\n",
       "      <td>54</td>\n",
       "      <td>0</td>\n",
       "      <td>1</td>\n",
       "      <td>132</td>\n",
       "      <td>288</td>\n",
       "      <td>1</td>\n",
       "      <td>0</td>\n",
       "      <td>159</td>\n",
       "      <td>1</td>\n",
       "      <td>0.0</td>\n",
       "      <td>2</td>\n",
       "      <td>1</td>\n",
       "      <td>2</td>\n",
       "      <td>1</td>\n",
       "    </tr>\n",
       "    <tr>\n",
       "      <th>297</th>\n",
       "      <td>58</td>\n",
       "      <td>1</td>\n",
       "      <td>0</td>\n",
       "      <td>150</td>\n",
       "      <td>270</td>\n",
       "      <td>0</td>\n",
       "      <td>0</td>\n",
       "      <td>111</td>\n",
       "      <td>1</td>\n",
       "      <td>0.8</td>\n",
       "      <td>2</td>\n",
       "      <td>0</td>\n",
       "      <td>3</td>\n",
       "      <td>0</td>\n",
       "    </tr>\n",
       "  </tbody>\n",
       "</table>\n",
       "<p>100 rows × 14 columns</p>\n",
       "</div>"
      ],
      "text/plain": [
       "     age  sex  cp  trestbps  chol  fbs  restecg  thalach  exang  oldpeak  \\\n",
       "307   44    1   1       120   220    0        1      170      0      0.0   \n",
       "404   61    1   0       140   207    0        0      138      1      1.9   \n",
       "795   62    1   1       128   208    1        0      140      0      0.0   \n",
       "291   58    1   0       128   259    0        0      130      1      3.0   \n",
       "795   62    1   1       128   208    1        0      140      0      0.0   \n",
       "..   ...  ...  ..       ...   ...  ...      ...      ...    ...      ...   \n",
       "709   45    1   3       110   264    0        1      132      0      1.2   \n",
       "277   44    1   1       130   219    0        0      188      0      0.0   \n",
       "667   57    1   1       124   261    0        1      141      0      0.3   \n",
       "240   54    0   1       132   288    1        0      159      1      0.0   \n",
       "297   58    1   0       150   270    0        0      111      1      0.8   \n",
       "\n",
       "     slope  ca  thal  target  \n",
       "307      2   0     2       1  \n",
       "404      2   1     3       0  \n",
       "795      2   0     2       1  \n",
       "291      1   2     3       0  \n",
       "795      2   0     2       1  \n",
       "..     ...  ..   ...     ...  \n",
       "709      1   0     3       0  \n",
       "277      2   0     2       1  \n",
       "667      2   0     3       0  \n",
       "240      2   1     2       1  \n",
       "297      2   0     3       0  \n",
       "\n",
       "[100 rows x 14 columns]"
      ]
     },
     "execution_count": 51,
     "metadata": {},
     "output_type": "execute_result"
    }
   ],
   "source": [
    "# sampled from Xy\n",
    "\n",
    "Xy_sampled = Xy.sample(n=len(Xy), weights=df_weights[df_weights.columns[-1]], replace=True)\n",
    "\n",
    "Xy_sampled"
   ]
  },
  {
   "cell_type": "code",
   "execution_count": 52,
   "id": "96a2563e-bf8d-45f0-a36b-3631bcf346b3",
   "metadata": {},
   "outputs": [],
   "source": [
    "X_sampled = Xy_sampled.drop(columns='target')\n",
    "y_sampled = Xy_sampled.target"
   ]
  },
  {
   "cell_type": "code",
   "execution_count": null,
   "id": "0f2d2cbb-b4e6-44e9-a177-86aee573e984",
   "metadata": {},
   "outputs": [],
   "source": []
  },
  {
   "cell_type": "markdown",
   "id": "17df273b-60e7-44a2-9c3e-d94f1f2e38c0",
   "metadata": {
    "tags": []
   },
   "source": [
    "# 4. Compare with sklearn AdaBoostClassifier"
   ]
  },
  {
   "cell_type": "code",
   "execution_count": 18,
   "id": "a9587ebb-8bed-48e4-b06f-04fde60f6271",
   "metadata": {},
   "outputs": [],
   "source": [
    "from sklearn.ensemble import AdaBoostClassifier"
   ]
  },
  {
   "cell_type": "code",
   "execution_count": 19,
   "id": "e373b191-2103-4220-bccb-64081e15399d",
   "metadata": {},
   "outputs": [
    {
     "name": "stdout",
     "output_type": "stream",
     "text": [
      "Accuracy train: 0.8884\n",
      "Accuracy test: 0.8442\n"
     ]
    },
    {
     "data": {
      "image/png": "[encoded data removed]",
      "text/plain": [
       "<Figure size 600x200 with 2 Axes>"
      ]
     },
     "metadata": {},
     "output_type": "display_data"
    }
   ],
   "source": [
    "ada = AdaBoostClassifier(algorithm = 'SAMME', random_state=1)\n",
    "ada.fit(X_train, y_train)\n",
    "yhat_train = ada.predict(X_train)\n",
    "yhat_test = ada.predict(X_test)\n",
    "\n",
    "print(f'Accuracy train: {accuracy_score(y_train, yhat_train):.4f}')\n",
    "print(f'Accuracy test: {accuracy_score(y_test, yhat_test):.4f}')\n",
    "\n",
    "fig, [ax1, ax2] = plt.subplots(ncols = 2, figsize=(6,2))\n",
    "sns.heatmap(confusion_matrix(y_train, yhat_train), annot=True, cbar=False, fmt='.0f', ax=ax1)\n",
    "sns.heatmap(confusion_matrix(y_test, yhat_test), annot=True, cbar=False, fmt='.0f', ax=ax2)\n",
    "plt.show()"
   ]
  },
  {
   "cell_type": "code",
   "execution_count": 20,
   "id": "ec32e93e-b11e-4f82-ba0a-2181d9678a34",
   "metadata": {},
   "outputs": [
    {
     "name": "stdout",
     "output_type": "stream",
     "text": [
      "Accuracy train: 0.9247\n",
      "Accuracy test: 0.8961\n"
     ]
    },
    {
     "data": {
      "image/png": "[encoded data removed]",
      "text/plain": [
       "<Figure size 600x200 with 2 Axes>"
      ]
     },
     "metadata": {},
     "output_type": "display_data"
    }
   ],
   "source": [
    "ada = AdaBoostClassifier(algorithm = 'SAMME.R', random_state=1, n_estimators = 50)\n",
    "ada.fit(X_train, y_train)\n",
    "yhat_train = ada.predict(X_train)\n",
    "yhat_test = ada.predict(X_test)\n",
    "\n",
    "print(f'Accuracy train: {accuracy_score(y_train, yhat_train):.4f}')\n",
    "print(f'Accuracy test: {accuracy_score(y_test, yhat_test):.4f}')\n",
    "\n",
    "fig, [ax1, ax2] = plt.subplots(ncols = 2, figsize=(6,2))\n",
    "sns.heatmap(confusion_matrix(y_train, yhat_train), annot=True, cbar=False, fmt='.0f', ax=ax1)\n",
    "sns.heatmap(confusion_matrix(y_test, yhat_test), annot=True, cbar=False, fmt='.0f', ax=ax2)\n",
    "plt.show()"
   ]
  }
 ],
 "metadata": {
  "kernelspec": {
   "display_name": "Python 3 (ipykernel)",
   "language": "python",
   "name": "python3"
  },
  "language_info": {
   "codemirror_mode": {
    "name": "ipython",
    "version": 3
   },
   "file_extension": ".py",
   "mimetype": "text/x-python",
   "name": "python",
   "nbconvert_exporter": "python",
   "pygments_lexer": "ipython3",
   "version": "3.9.15"
  }
 },
 "nbformat": 4,
 "nbformat_minor": 5
}
